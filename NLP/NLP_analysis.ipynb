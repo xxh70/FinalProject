{
 "cells": [
  {
   "cell_type": "markdown",
   "metadata": {},
   "source": [
    "## NLP Analysis on essays and need statements\n",
    "\n",
    "#### NLP techniques including text classification, word frequency, and sentiment analysis were used to analyze the predictive values of \"essays\" and \"need statements\" (submitted by the teachers) on funding results. All the analysis were performed with 10% (113,828) of randomly selected data from the original database. Results can be found in the \"Analysis Results\" section at the end of this notebook."
   ]
  },
  {
   "cell_type": "markdown",
   "metadata": {},
   "source": [
    "###  1. Naive Bayes Text Classification"
   ]
  },
  {
   "cell_type": "code",
   "execution_count": 75,
   "metadata": {},
   "outputs": [],
   "source": [
    "import pandas as pd\n",
    "import numpy as np"
   ]
  },
  {
   "cell_type": "code",
   "execution_count": 76,
   "metadata": {},
   "outputs": [],
   "source": [
    "# Import data csv file into dataframe\n",
    "essays_data = pd.read_csv(\"essays_project_final_sample.csv\", sep=\",\")"
   ]
  },
  {
   "cell_type": "code",
   "execution_count": 77,
   "metadata": {},
   "outputs": [
    {
     "data": {
      "text/plain": [
       "_projectid           0\n",
       "funding_status       0\n",
       "title                0\n",
       "short_description    0\n",
       "need_statement       0\n",
       "essay                0\n",
       "dtype: int64"
      ]
     },
     "execution_count": 77,
     "metadata": {},
     "output_type": "execute_result"
    }
   ],
   "source": [
    "#Check for blank records\n",
    "essays_data.isnull().sum()"
   ]
  },
  {
   "cell_type": "code",
   "execution_count": 116,
   "metadata": {},
   "outputs": [
    {
     "data": {
      "text/plain": [
       "(113828, 2)"
      ]
     },
     "execution_count": 116,
     "metadata": {},
     "output_type": "execute_result"
    }
   ],
   "source": [
    "#create dataframe with \"essay\" column (features) and \"funding_status\" column (label)\n",
    "essays_data_essay = essays_data[[\"funding_status\", \"essay\"]]\n",
    "essays_data_essay.shape"
   ]
  },
  {
   "cell_type": "code",
   "execution_count": 53,
   "metadata": {},
   "outputs": [],
   "source": [
    "#tokenize \"essay\" column with spacy library\n",
    "import spacy\n",
    "nlp = spacy.load('en')\n",
    "\n",
    "essays_data_essay['tokens'] = essays_data_essay['essay'].apply(lambda x: nlp.tokenizer(x))"
   ]
  },
  {
   "cell_type": "code",
   "execution_count": 54,
   "metadata": {},
   "outputs": [
    {
     "data": {
      "text/html": [
       "<div>\n",
       "<style scoped>\n",
       "    .dataframe tbody tr th:only-of-type {\n",
       "        vertical-align: middle;\n",
       "    }\n",
       "\n",
       "    .dataframe tbody tr th {\n",
       "        vertical-align: top;\n",
       "    }\n",
       "\n",
       "    .dataframe thead th {\n",
       "        text-align: right;\n",
       "    }\n",
       "</style>\n",
       "<table border=\"1\" class=\"dataframe\">\n",
       "  <thead>\n",
       "    <tr style=\"text-align: right;\">\n",
       "      <th></th>\n",
       "      <th>funding_status</th>\n",
       "      <th>tokens</th>\n",
       "    </tr>\n",
       "  </thead>\n",
       "  <tbody>\n",
       "    <tr>\n",
       "      <th>0</th>\n",
       "      <td>1</td>\n",
       "      <td>(Our, classroom, is, a, fun, ,, safe, place, f...</td>\n",
       "    </tr>\n",
       "    <tr>\n",
       "      <th>1</th>\n",
       "      <td>0</td>\n",
       "      <td>(Was, your, primary, educational, experience, ...</td>\n",
       "    </tr>\n",
       "    <tr>\n",
       "      <th>2</th>\n",
       "      <td>1</td>\n",
       "      <td>(If, you, are, going, to, grow, a, garden, ,, ...</td>\n",
       "    </tr>\n",
       "    <tr>\n",
       "      <th>3</th>\n",
       "      <td>1</td>\n",
       "      <td>(My, students, are, amazing, !,  , They, are, ...</td>\n",
       "    </tr>\n",
       "    <tr>\n",
       "      <th>4</th>\n",
       "      <td>1</td>\n",
       "      <td>(My, students, all, come, from, low, -, income...</td>\n",
       "    </tr>\n",
       "  </tbody>\n",
       "</table>\n",
       "</div>"
      ],
      "text/plain": [
       "   funding_status                                             tokens\n",
       "0               1  (Our, classroom, is, a, fun, ,, safe, place, f...\n",
       "1               0  (Was, your, primary, educational, experience, ...\n",
       "2               1  (If, you, are, going, to, grow, a, garden, ,, ...\n",
       "3               1  (My, students, are, amazing, !,  , They, are, ...\n",
       "4               1  (My, students, all, come, from, low, -, income..."
      ]
     },
     "execution_count": 54,
     "metadata": {},
     "output_type": "execute_result"
    }
   ],
   "source": [
    "#create dataframe with \"tokens\" column (features) and \"funding_status\" column (label)\n",
    "essays_data_tokens = essays_data_essay[[\"funding_status\", \"tokens\"]]\n",
    "essays_data_tokens.head()"
   ]
  },
  {
   "cell_type": "code",
   "execution_count": 56,
   "metadata": {},
   "outputs": [
    {
     "data": {
      "text/plain": [
       "1    79472\n",
       "0    34356\n",
       "Name: funding_status, dtype: int64"
      ]
     },
     "execution_count": 56,
     "metadata": {},
     "output_type": "execute_result"
    }
   ],
   "source": [
    "#Number of funded vs. not funded\n",
    "count = essays_data_tokens[\"funding_status\"].value_counts()\n",
    "count\n"
   ]
  },
  {
   "cell_type": "code",
   "execution_count": 154,
   "metadata": {},
   "outputs": [],
   "source": [
    "#import spacy stopwords list\n",
    "import spacy\n",
    "nlp = spacy.load('en')\n",
    "stops = nlp.Defaults.stop_words"
   ]
  },
  {
   "cell_type": "code",
   "execution_count": 59,
   "metadata": {},
   "outputs": [],
   "source": [
    "#Remove stop words function\n",
    "def normalize(comment, remove_stopwords):\n",
    "    lemmatized = list()\n",
    "    for word in comment:\n",
    "        lemma = word.lemma_.strip()\n",
    "        if lemma:\n",
    "            if not remove_stopwords or (remove_stopwords and lemma not in stops):\n",
    "                lemmatized.append(lemma)\n",
    "    return \" \".join(lemmatized)\n"
   ]
  },
  {
   "cell_type": "code",
   "execution_count": 60,
   "metadata": {},
   "outputs": [],
   "source": [
    "#Remove stop words in tokens column\n",
    "essays_data_tokens[\"cleaned_tokens\"] = essays_data_tokens[\"tokens\"].apply(normalize, remove_stopwords=True)"
   ]
  },
  {
   "cell_type": "code",
   "execution_count": 61,
   "metadata": {},
   "outputs": [
    {
     "data": {
      "text/html": [
       "<div>\n",
       "<style scoped>\n",
       "    .dataframe tbody tr th:only-of-type {\n",
       "        vertical-align: middle;\n",
       "    }\n",
       "\n",
       "    .dataframe tbody tr th {\n",
       "        vertical-align: top;\n",
       "    }\n",
       "\n",
       "    .dataframe thead th {\n",
       "        text-align: right;\n",
       "    }\n",
       "</style>\n",
       "<table border=\"1\" class=\"dataframe\">\n",
       "  <thead>\n",
       "    <tr style=\"text-align: right;\">\n",
       "      <th></th>\n",
       "      <th>funding_status</th>\n",
       "      <th>tokens</th>\n",
       "      <th>cleaned_tokens</th>\n",
       "    </tr>\n",
       "  </thead>\n",
       "  <tbody>\n",
       "    <tr>\n",
       "      <th>0</th>\n",
       "      <td>1</td>\n",
       "      <td>(Our, classroom, is, a, fun, ,, safe, place, f...</td>\n",
       "      <td>Our classroom fun , safe place child ! We lot ...</td>\n",
       "    </tr>\n",
       "    <tr>\n",
       "      <th>1</th>\n",
       "      <td>0</td>\n",
       "      <td>(Was, your, primary, educational, experience, ...</td>\n",
       "      <td>Was primary educational experience fill dull r...</td>\n",
       "    </tr>\n",
       "    <tr>\n",
       "      <th>2</th>\n",
       "      <td>1</td>\n",
       "      <td>(If, you, are, going, to, grow, a, garden, ,, ...</td>\n",
       "      <td>If grow garden , find visit ! Our public schoo...</td>\n",
       "    </tr>\n",
       "    <tr>\n",
       "      <th>3</th>\n",
       "      <td>1</td>\n",
       "      <td>(My, students, are, amazing, !,  , They, are, ...</td>\n",
       "      <td>My student amaze ! They push Art far limit gro...</td>\n",
       "    </tr>\n",
       "    <tr>\n",
       "      <th>4</th>\n",
       "      <td>1</td>\n",
       "      <td>(My, students, all, come, from, low, -, income...</td>\n",
       "      <td>My student come low - income household , singl...</td>\n",
       "    </tr>\n",
       "  </tbody>\n",
       "</table>\n",
       "</div>"
      ],
      "text/plain": [
       "   funding_status                                             tokens  \\\n",
       "0               1  (Our, classroom, is, a, fun, ,, safe, place, f...   \n",
       "1               0  (Was, your, primary, educational, experience, ...   \n",
       "2               1  (If, you, are, going, to, grow, a, garden, ,, ...   \n",
       "3               1  (My, students, are, amazing, !,  , They, are, ...   \n",
       "4               1  (My, students, all, come, from, low, -, income...   \n",
       "\n",
       "                                      cleaned_tokens  \n",
       "0  Our classroom fun , safe place child ! We lot ...  \n",
       "1  Was primary educational experience fill dull r...  \n",
       "2  If grow garden , find visit ! Our public schoo...  \n",
       "3  My student amaze ! They push Art far limit gro...  \n",
       "4  My student come low - income household , singl...  "
      ]
     },
     "execution_count": 61,
     "metadata": {},
     "output_type": "execute_result"
    }
   ],
   "source": [
    "essays_data_tokens.head()"
   ]
  },
  {
   "cell_type": "code",
   "execution_count": 62,
   "metadata": {},
   "outputs": [],
   "source": [
    "#Split data into train and test using sklearn\n",
    "from sklearn.model_selection import train_test_split\n",
    "\n",
    "X = essays_data_tokens[\"cleaned_tokens\"]\n",
    "y = essays_data_tokens[\"funding_status\"]\n",
    "\n",
    "X_train, X_test, y_train, y_test = train_test_split(X, y, test_size=0.33, random_state=42)"
   ]
  },
  {
   "cell_type": "code",
   "execution_count": 63,
   "metadata": {},
   "outputs": [],
   "source": [
    "from sklearn.pipeline import Pipeline\n",
    "from sklearn.feature_extraction.text import TfidfVectorizer\n",
    "from sklearn.naive_bayes import MultinomialNB"
   ]
  },
  {
   "cell_type": "code",
   "execution_count": 64,
   "metadata": {},
   "outputs": [],
   "source": [
    "# Create TfidfVectorizer and Naïve Bayes pipeline:\n",
    "text_clf_nb = Pipeline([('tfidf', TfidfVectorizer()),\n",
    "                     ('clf', MultinomialNB()),])"
   ]
  },
  {
   "cell_type": "code",
   "execution_count": 65,
   "metadata": {},
   "outputs": [
    {
     "data": {
      "text/plain": [
       "Pipeline(memory=None,\n",
       "     steps=[('tfidf', TfidfVectorizer(analyzer='word', binary=False, decode_error='strict',\n",
       "        dtype=<class 'numpy.float64'>, encoding='utf-8', input='content',\n",
       "        lowercase=True, max_df=1.0, max_features=None, min_df=1,\n",
       "        ngram_range=(1, 1), norm='l2', preprocessor=None, smooth_idf=True,...rue,\n",
       "        vocabulary=None)), ('clf', MultinomialNB(alpha=1.0, class_prior=None, fit_prior=True))])"
      ]
     },
     "execution_count": 65,
     "metadata": {},
     "output_type": "execute_result"
    }
   ],
   "source": [
    "#Fit training data\n",
    "text_clf_nb.fit(X_train, y_train)"
   ]
  },
  {
   "cell_type": "code",
   "execution_count": 66,
   "metadata": {},
   "outputs": [],
   "source": [
    "#Predict using test data\n",
    "predictions = text_clf_nb.predict(X_test)"
   ]
  },
  {
   "cell_type": "code",
   "execution_count": 67,
   "metadata": {},
   "outputs": [
    {
     "name": "stdout",
     "output_type": "stream",
     "text": [
      "[[    6 11379]\n",
      " [   12 26167]]\n"
     ]
    },
    {
     "data": {
      "text/plain": [
       "<matplotlib.axes._subplots.AxesSubplot at 0x21f51919780>"
      ]
     },
     "execution_count": 67,
     "metadata": {},
     "output_type": "execute_result"
    },
    {
     "data": {
      "image/png": "[encoded data removed]",
      "text/plain": [
       "<Figure size 432x288 with 2 Axes>"
      ]
     },
     "metadata": {
      "needs_background": "light"
     },
     "output_type": "display_data"
    }
   ],
   "source": [
    "#Confusion Matrix\n",
    "import seaborn as sns\n",
    "from sklearn import metrics\n",
    "cm = metrics.confusion_matrix(y_test,predictions)\n",
    "print(cm)\n",
    "sns.heatmap(cm, annot=True)"
   ]
  },
  {
   "cell_type": "code",
   "execution_count": 68,
   "metadata": {},
   "outputs": [
    {
     "name": "stdout",
     "output_type": "stream",
     "text": [
      "              precision    recall  f1-score   support\n",
      "\n",
      "           0       0.33      0.00      0.00     11385\n",
      "           1       0.70      1.00      0.82     26179\n",
      "\n",
      "   micro avg       0.70      0.70      0.70     37564\n",
      "   macro avg       0.52      0.50      0.41     37564\n",
      "weighted avg       0.59      0.70      0.57     37564\n",
      "\n"
     ]
    }
   ],
   "source": [
    "#Classification Report\n",
    "print(metrics.classification_report(y_test,predictions))"
   ]
  },
  {
   "cell_type": "markdown",
   "metadata": {},
   "source": [
    "### 2. Linear SVC Text Classification"
   ]
  },
  {
   "cell_type": "code",
   "execution_count": 69,
   "metadata": {},
   "outputs": [],
   "source": [
    "# Linear SVC:\n",
    "from sklearn.svm import LinearSVC\n",
    "text_clf_lsvc = Pipeline([('tfidf', TfidfVectorizer()),\n",
    "                     ('clf', LinearSVC()),\n",
    "])"
   ]
  },
  {
   "cell_type": "code",
   "execution_count": 70,
   "metadata": {},
   "outputs": [
    {
     "data": {
      "text/plain": [
       "Pipeline(memory=None,\n",
       "     steps=[('tfidf', TfidfVectorizer(analyzer='word', binary=False, decode_error='strict',\n",
       "        dtype=<class 'numpy.float64'>, encoding='utf-8', input='content',\n",
       "        lowercase=True, max_df=1.0, max_features=None, min_df=1,\n",
       "        ngram_range=(1, 1), norm='l2', preprocessor=None, smooth_idf=True,...ax_iter=1000,\n",
       "     multi_class='ovr', penalty='l2', random_state=None, tol=0.0001,\n",
       "     verbose=0))])"
      ]
     },
     "execution_count": 70,
     "metadata": {},
     "output_type": "execute_result"
    }
   ],
   "source": [
    "#Fit training data\n",
    "text_clf_lsvc.fit(X_train, y_train)"
   ]
  },
  {
   "cell_type": "code",
   "execution_count": 71,
   "metadata": {},
   "outputs": [],
   "source": [
    "#Predict using test data\n",
    "predictions = text_clf_lsvc.predict(X_test)"
   ]
  },
  {
   "cell_type": "code",
   "execution_count": 72,
   "metadata": {},
   "outputs": [
    {
     "name": "stdout",
     "output_type": "stream",
     "text": [
      "[[ 1765  9620]\n",
      " [ 2500 23679]]\n"
     ]
    },
    {
     "data": {
      "text/plain": [
       "<matplotlib.axes._subplots.AxesSubplot at 0x21f520ffb38>"
      ]
     },
     "execution_count": 72,
     "metadata": {},
     "output_type": "execute_result"
    },
    {
     "data": {
      "image/png": "[encoded data removed]",
      "text/plain": [
       "<Figure size 432x288 with 2 Axes>"
      ]
     },
     "metadata": {
      "needs_background": "light"
     },
     "output_type": "display_data"
    }
   ],
   "source": [
    "#LSVC Confusion Matrix\n",
    "cm = metrics.confusion_matrix(y_test,predictions)\n",
    "print(cm)\n",
    "sns.heatmap(cm, annot=True)"
   ]
  },
  {
   "cell_type": "code",
   "execution_count": 73,
   "metadata": {},
   "outputs": [
    {
     "name": "stdout",
     "output_type": "stream",
     "text": [
      "              precision    recall  f1-score   support\n",
      "\n",
      "           0       0.41      0.16      0.23     11385\n",
      "           1       0.71      0.90      0.80     26179\n",
      "\n",
      "   micro avg       0.68      0.68      0.68     37564\n",
      "   macro avg       0.56      0.53      0.51     37564\n",
      "weighted avg       0.62      0.68      0.62     37564\n",
      "\n"
     ]
    }
   ],
   "source": [
    "#LSVC Classification Report\n",
    "print(metrics.classification_report(y_test,predictions))"
   ]
  },
  {
   "cell_type": "markdown",
   "metadata": {},
   "source": [
    "### 3. \"Need Statements\" Word Frequency Analysis"
   ]
  },
  {
   "cell_type": "code",
   "execution_count": 155,
   "metadata": {},
   "outputs": [
    {
     "data": {
      "text/plain": [
       "(113828, 2)"
      ]
     },
     "execution_count": 155,
     "metadata": {},
     "output_type": "execute_result"
    }
   ],
   "source": [
    "#Create need statement dataframe\n",
    "essays_data_need = essays_data[[\"funding_status\", \"need_statement\"]]\n",
    "essays_data_need.shape"
   ]
  },
  {
   "cell_type": "code",
   "execution_count": 156,
   "metadata": {},
   "outputs": [
    {
     "name": "stderr",
     "output_type": "stream",
     "text": [
      "C:\\Users\\Owner\\Anaconda3\\lib\\site-packages\\ipykernel_launcher.py:5: SettingWithCopyWarning: \n",
      "A value is trying to be set on a copy of a slice from a DataFrame.\n",
      "Try using .loc[row_indexer,col_indexer] = value instead\n",
      "\n",
      "See the caveats in the documentation: http://pandas.pydata.org/pandas-docs/stable/indexing.html#indexing-view-versus-copy\n",
      "  \"\"\"\n"
     ]
    }
   ],
   "source": [
    "#tokenize \"need statement\" column with spacy library\n",
    "import spacy\n",
    "nlp = spacy.load('en')\n",
    "\n",
    "essays_data_need['tokens'] = essays_data_need['need_statement'].apply(lambda x: nlp.tokenizer(x))"
   ]
  },
  {
   "cell_type": "code",
   "execution_count": 82,
   "metadata": {},
   "outputs": [
    {
     "data": {
      "text/html": [
       "<div>\n",
       "<style scoped>\n",
       "    .dataframe tbody tr th:only-of-type {\n",
       "        vertical-align: middle;\n",
       "    }\n",
       "\n",
       "    .dataframe tbody tr th {\n",
       "        vertical-align: top;\n",
       "    }\n",
       "\n",
       "    .dataframe thead th {\n",
       "        text-align: right;\n",
       "    }\n",
       "</style>\n",
       "<table border=\"1\" class=\"dataframe\">\n",
       "  <thead>\n",
       "    <tr style=\"text-align: right;\">\n",
       "      <th></th>\n",
       "      <th>funding_status</th>\n",
       "      <th>need_statement</th>\n",
       "      <th>tokens</th>\n",
       "    </tr>\n",
       "  </thead>\n",
       "  <tbody>\n",
       "    <tr>\n",
       "      <th>0</th>\n",
       "      <td>1</td>\n",
       "      <td>My students need 2 Giant Comfy Pillows, a Span...</td>\n",
       "      <td>(My, students, need, 2, Giant, Comfy, Pillows,...</td>\n",
       "    </tr>\n",
       "    <tr>\n",
       "      <th>1</th>\n",
       "      <td>0</td>\n",
       "      <td>My students need tablets that remain in the cl...</td>\n",
       "      <td>(My, students, need, tablets, that, remain, in...</td>\n",
       "    </tr>\n",
       "    <tr>\n",
       "      <th>2</th>\n",
       "      <td>1</td>\n",
       "      <td>My students need 1 digital microscope to ident...</td>\n",
       "      <td>(My, students, need, 1, digital, microscope, t...</td>\n",
       "    </tr>\n",
       "    <tr>\n",
       "      <th>3</th>\n",
       "      <td>1</td>\n",
       "      <td>My students need paint, brushes, colored penci...</td>\n",
       "      <td>(My, students, need, paint, ,, brushes, ,, col...</td>\n",
       "    </tr>\n",
       "    <tr>\n",
       "      <th>4</th>\n",
       "      <td>1</td>\n",
       "      <td>My students need a copy of Maniac Magee and Ho...</td>\n",
       "      <td>(My, students, need, a, copy, of, Maniac, Mage...</td>\n",
       "    </tr>\n",
       "  </tbody>\n",
       "</table>\n",
       "</div>"
      ],
      "text/plain": [
       "   funding_status                                     need_statement  \\\n",
       "0               1  My students need 2 Giant Comfy Pillows, a Span...   \n",
       "1               0  My students need tablets that remain in the cl...   \n",
       "2               1  My students need 1 digital microscope to ident...   \n",
       "3               1  My students need paint, brushes, colored penci...   \n",
       "4               1  My students need a copy of Maniac Magee and Ho...   \n",
       "\n",
       "                                              tokens  \n",
       "0  (My, students, need, 2, Giant, Comfy, Pillows,...  \n",
       "1  (My, students, need, tablets, that, remain, in...  \n",
       "2  (My, students, need, 1, digital, microscope, t...  \n",
       "3  (My, students, need, paint, ,, brushes, ,, col...  \n",
       "4  (My, students, need, a, copy, of, Maniac, Mage...  "
      ]
     },
     "execution_count": 82,
     "metadata": {},
     "output_type": "execute_result"
    }
   ],
   "source": [
    "essays_data_need.head()"
   ]
  },
  {
   "cell_type": "code",
   "execution_count": 83,
   "metadata": {},
   "outputs": [
    {
     "data": {
      "text/html": [
       "<div>\n",
       "<style scoped>\n",
       "    .dataframe tbody tr th:only-of-type {\n",
       "        vertical-align: middle;\n",
       "    }\n",
       "\n",
       "    .dataframe tbody tr th {\n",
       "        vertical-align: top;\n",
       "    }\n",
       "\n",
       "    .dataframe thead th {\n",
       "        text-align: right;\n",
       "    }\n",
       "</style>\n",
       "<table border=\"1\" class=\"dataframe\">\n",
       "  <thead>\n",
       "    <tr style=\"text-align: right;\">\n",
       "      <th></th>\n",
       "      <th>funding_status</th>\n",
       "      <th>tokens</th>\n",
       "    </tr>\n",
       "  </thead>\n",
       "  <tbody>\n",
       "    <tr>\n",
       "      <th>0</th>\n",
       "      <td>1</td>\n",
       "      <td>(My, students, need, 2, Giant, Comfy, Pillows,...</td>\n",
       "    </tr>\n",
       "    <tr>\n",
       "      <th>1</th>\n",
       "      <td>0</td>\n",
       "      <td>(My, students, need, tablets, that, remain, in...</td>\n",
       "    </tr>\n",
       "    <tr>\n",
       "      <th>2</th>\n",
       "      <td>1</td>\n",
       "      <td>(My, students, need, 1, digital, microscope, t...</td>\n",
       "    </tr>\n",
       "    <tr>\n",
       "      <th>3</th>\n",
       "      <td>1</td>\n",
       "      <td>(My, students, need, paint, ,, brushes, ,, col...</td>\n",
       "    </tr>\n",
       "    <tr>\n",
       "      <th>4</th>\n",
       "      <td>1</td>\n",
       "      <td>(My, students, need, a, copy, of, Maniac, Mage...</td>\n",
       "    </tr>\n",
       "  </tbody>\n",
       "</table>\n",
       "</div>"
      ],
      "text/plain": [
       "   funding_status                                             tokens\n",
       "0               1  (My, students, need, 2, Giant, Comfy, Pillows,...\n",
       "1               0  (My, students, need, tablets, that, remain, in...\n",
       "2               1  (My, students, need, 1, digital, microscope, t...\n",
       "3               1  (My, students, need, paint, ,, brushes, ,, col...\n",
       "4               1  (My, students, need, a, copy, of, Maniac, Mage..."
      ]
     },
     "execution_count": 83,
     "metadata": {},
     "output_type": "execute_result"
    }
   ],
   "source": [
    "essays_data_needtok = essays_data_need[[\"funding_status\", \"tokens\"]]\n",
    "essays_data_needtok.head()"
   ]
  },
  {
   "cell_type": "code",
   "execution_count": 89,
   "metadata": {},
   "outputs": [
    {
     "name": "stdout",
     "output_type": "stream",
     "text": [
      "Total funded 1    79472\n",
      "Name: funding_status, dtype: int64      Total Not funded 0    34356\n",
      "Name: funding_status, dtype: int64\n"
     ]
    }
   ],
   "source": [
    "#Separate data by funding status: create dataframes for funded and not funded records\n",
    "\n",
    "funded_df = essays_data_needtok.drop(essays_data_needtok.loc[essays_data_needtok['funding_status']==0].index)     \n",
    "not_funded_df = essays_data_needtok.drop(essays_data_needtok.loc[essays_data_needtok['funding_status']==1].index)    \n",
    "nfcount = not_funded_df[\"funding_status\"].value_counts()\n",
    "fcount = funded_df[\"funding_status\"].value_counts()\n",
    "print(f\"Total funded {fcount}      Total Not funded {nfcount}\")"
   ]
  },
  {
   "cell_type": "code",
   "execution_count": 106,
   "metadata": {},
   "outputs": [],
   "source": [
    "#Split and count need statements words in funded dataframe\n",
    "funded_string = funded_df[\"tokens\"].to_string(header=False, index=False)\n",
    "from collections import Counter\n",
    "\n",
    "funded_list = Counter(funded_string.split()).most_common()\n",
    "funded_list_df = pd.DataFrame(funded_list, columns=['Funded_List', 'Funded_Count'])"
   ]
  },
  {
   "cell_type": "code",
   "execution_count": 107,
   "metadata": {},
   "outputs": [],
   "source": [
    "#Top 500 words in funded dataframe\n",
    "funded_list_df = funded_list_df[:500]"
   ]
  },
  {
   "cell_type": "code",
   "execution_count": 108,
   "metadata": {},
   "outputs": [],
   "source": [
    "#Split and count need statements words in not funded dataframe\n",
    "not_funded_string = not_funded_df[\"tokens\"].to_string(header=False, index=False)\n",
    "from collections import Counter\n",
    "\n",
    "not_funded_list = Counter(not_funded_string.split()).most_common()\n",
    "not_funded_list_df = pd.DataFrame(not_funded_list, columns=['Not_Funded_List', 'Not_Funded_Count'])"
   ]
  },
  {
   "cell_type": "code",
   "execution_count": 109,
   "metadata": {},
   "outputs": [
    {
     "data": {
      "text/plain": [
       "(500, 2)"
      ]
     },
     "execution_count": 109,
     "metadata": {},
     "output_type": "execute_result"
    }
   ],
   "source": [
    "#Top 500 words in not funded dataframe\n",
    "not_funded_list_df = not_funded_list_df[:500]\n",
    "not_funded_list_df.shape"
   ]
  },
  {
   "cell_type": "code",
   "execution_count": 110,
   "metadata": {},
   "outputs": [
    {
     "data": {
      "image/png": "[encoded data removed]",
      "text/plain": [
       "<Figure size 432x288 with 1 Axes>"
      ]
     },
     "metadata": {},
     "output_type": "display_data"
    }
   ],
   "source": [
    "import matplotlib.pyplot as plt\n",
    "from matplotlib_venn import venn2\n",
    "\n",
    "venn2([set(not_funded_list_df['Not_Funded_List']), set(funded_list_df['Funded_List'])], (\"Not Funded Need Stmts\", \"Funded Need Stmts\"))\n",
    "plt.title(\"Top 500 keywords from Funded and Not Funded Need Statements\")\n",
    "plt.show()"
   ]
  },
  {
   "cell_type": "markdown",
   "metadata": {},
   "source": [
    "### 4. NLTK Sentiment Analysis"
   ]
  },
  {
   "cell_type": "code",
   "execution_count": 111,
   "metadata": {},
   "outputs": [
    {
     "name": "stderr",
     "output_type": "stream",
     "text": [
      "[nltk_data] Downloading package vader_lexicon to\n",
      "[nltk_data]     C:\\Users\\Owner\\AppData\\Roaming\\nltk_data...\n",
      "[nltk_data]   Package vader_lexicon is already up-to-date!\n"
     ]
    },
    {
     "data": {
      "text/plain": [
       "True"
      ]
     },
     "execution_count": 111,
     "metadata": {},
     "output_type": "execute_result"
    }
   ],
   "source": [
    "import nltk\n",
    "nltk.download('vader_lexicon')"
   ]
  },
  {
   "cell_type": "code",
   "execution_count": 112,
   "metadata": {},
   "outputs": [],
   "source": [
    "from nltk.sentiment.vader import SentimentIntensityAnalyzer\n",
    "\n",
    "sid = SentimentIntensityAnalyzer()"
   ]
  },
  {
   "cell_type": "code",
   "execution_count": 117,
   "metadata": {},
   "outputs": [
    {
     "data": {
      "text/html": [
       "<div>\n",
       "<style scoped>\n",
       "    .dataframe tbody tr th:only-of-type {\n",
       "        vertical-align: middle;\n",
       "    }\n",
       "\n",
       "    .dataframe tbody tr th {\n",
       "        vertical-align: top;\n",
       "    }\n",
       "\n",
       "    .dataframe thead th {\n",
       "        text-align: right;\n",
       "    }\n",
       "</style>\n",
       "<table border=\"1\" class=\"dataframe\">\n",
       "  <thead>\n",
       "    <tr style=\"text-align: right;\">\n",
       "      <th></th>\n",
       "      <th>funding_status</th>\n",
       "      <th>essay</th>\n",
       "    </tr>\n",
       "  </thead>\n",
       "  <tbody>\n",
       "    <tr>\n",
       "      <th>0</th>\n",
       "      <td>1</td>\n",
       "      <td>Our classroom is a fun, safe place for childre...</td>\n",
       "    </tr>\n",
       "    <tr>\n",
       "      <th>1</th>\n",
       "      <td>0</td>\n",
       "      <td>Was your primary educational experience filled...</td>\n",
       "    </tr>\n",
       "    <tr>\n",
       "      <th>2</th>\n",
       "      <td>1</td>\n",
       "      <td>If you are going to grow a garden, you better ...</td>\n",
       "    </tr>\n",
       "    <tr>\n",
       "      <th>3</th>\n",
       "      <td>1</td>\n",
       "      <td>My students are amazing!  They are pushing the...</td>\n",
       "    </tr>\n",
       "    <tr>\n",
       "      <th>4</th>\n",
       "      <td>1</td>\n",
       "      <td>My students all come from low-income household...</td>\n",
       "    </tr>\n",
       "  </tbody>\n",
       "</table>\n",
       "</div>"
      ],
      "text/plain": [
       "   funding_status                                              essay\n",
       "0               1  Our classroom is a fun, safe place for childre...\n",
       "1               0  Was your primary educational experience filled...\n",
       "2               1  If you are going to grow a garden, you better ...\n",
       "3               1  My students are amazing!  They are pushing the...\n",
       "4               1  My students all come from low-income household..."
      ]
     },
     "execution_count": 117,
     "metadata": {},
     "output_type": "execute_result"
    }
   ],
   "source": [
    "essays_data_essay.head()"
   ]
  },
  {
   "cell_type": "code",
   "execution_count": 118,
   "metadata": {},
   "outputs": [
    {
     "name": "stderr",
     "output_type": "stream",
     "text": [
      "C:\\Users\\Owner\\Anaconda3\\lib\\site-packages\\ipykernel_launcher.py:1: SettingWithCopyWarning: \n",
      "A value is trying to be set on a copy of a slice from a DataFrame.\n",
      "Try using .loc[row_indexer,col_indexer] = value instead\n",
      "\n",
      "See the caveats in the documentation: http://pandas.pydata.org/pandas-docs/stable/indexing.html#indexing-view-versus-copy\n",
      "  \"\"\"Entry point for launching an IPython kernel.\n",
      "C:\\Users\\Owner\\Anaconda3\\lib\\site-packages\\ipykernel_launcher.py:2: SettingWithCopyWarning: \n",
      "A value is trying to be set on a copy of a slice from a DataFrame.\n",
      "Try using .loc[row_indexer,col_indexer] = value instead\n",
      "\n",
      "See the caveats in the documentation: http://pandas.pydata.org/pandas-docs/stable/indexing.html#indexing-view-versus-copy\n",
      "  \n",
      "C:\\Users\\Owner\\Anaconda3\\lib\\site-packages\\ipykernel_launcher.py:4: SettingWithCopyWarning: \n",
      "A value is trying to be set on a copy of a slice from a DataFrame.\n",
      "Try using .loc[row_indexer,col_indexer] = value instead\n",
      "\n",
      "See the caveats in the documentation: http://pandas.pydata.org/pandas-docs/stable/indexing.html#indexing-view-versus-copy\n",
      "  after removing the cwd from sys.path.\n"
     ]
    }
   ],
   "source": [
    "essays_data_essay['scores'] = essays_data_essay['essay'].apply(lambda review: sid.polarity_scores(review))\n",
    "essays_data_essay['compound']  = essays_data_essay['scores'].apply(lambda score_dict: score_dict['compound'])\n",
    "\n",
    "essays_data_essay['comp_score'] = essays_data_essay['compound'].apply(lambda c: 1 if c >=0 else 0)"
   ]
  },
  {
   "cell_type": "code",
   "execution_count": 119,
   "metadata": {},
   "outputs": [
    {
     "data": {
      "text/html": [
       "<div>\n",
       "<style scoped>\n",
       "    .dataframe tbody tr th:only-of-type {\n",
       "        vertical-align: middle;\n",
       "    }\n",
       "\n",
       "    .dataframe tbody tr th {\n",
       "        vertical-align: top;\n",
       "    }\n",
       "\n",
       "    .dataframe thead th {\n",
       "        text-align: right;\n",
       "    }\n",
       "</style>\n",
       "<table border=\"1\" class=\"dataframe\">\n",
       "  <thead>\n",
       "    <tr style=\"text-align: right;\">\n",
       "      <th></th>\n",
       "      <th>funding_status</th>\n",
       "      <th>essay</th>\n",
       "      <th>scores</th>\n",
       "      <th>compound</th>\n",
       "      <th>comp_score</th>\n",
       "    </tr>\n",
       "  </thead>\n",
       "  <tbody>\n",
       "    <tr>\n",
       "      <th>0</th>\n",
       "      <td>1</td>\n",
       "      <td>Our classroom is a fun, safe place for childre...</td>\n",
       "      <td>{'neg': 0.019, 'neu': 0.844, 'pos': 0.138, 'co...</td>\n",
       "      <td>0.9758</td>\n",
       "      <td>1</td>\n",
       "    </tr>\n",
       "    <tr>\n",
       "      <th>1</th>\n",
       "      <td>0</td>\n",
       "      <td>Was your primary educational experience filled...</td>\n",
       "      <td>{'neg': 0.015, 'neu': 0.924, 'pos': 0.06, 'com...</td>\n",
       "      <td>0.9013</td>\n",
       "      <td>1</td>\n",
       "    </tr>\n",
       "    <tr>\n",
       "      <th>2</th>\n",
       "      <td>1</td>\n",
       "      <td>If you are going to grow a garden, you better ...</td>\n",
       "      <td>{'neg': 0.0, 'neu': 0.894, 'pos': 0.106, 'comp...</td>\n",
       "      <td>0.9753</td>\n",
       "      <td>1</td>\n",
       "    </tr>\n",
       "    <tr>\n",
       "      <th>3</th>\n",
       "      <td>1</td>\n",
       "      <td>My students are amazing!  They are pushing the...</td>\n",
       "      <td>{'neg': 0.023, 'neu': 0.81, 'pos': 0.167, 'com...</td>\n",
       "      <td>0.9949</td>\n",
       "      <td>1</td>\n",
       "    </tr>\n",
       "    <tr>\n",
       "      <th>4</th>\n",
       "      <td>1</td>\n",
       "      <td>My students all come from low-income household...</td>\n",
       "      <td>{'neg': 0.086, 'neu': 0.756, 'pos': 0.158, 'co...</td>\n",
       "      <td>0.9231</td>\n",
       "      <td>1</td>\n",
       "    </tr>\n",
       "  </tbody>\n",
       "</table>\n",
       "</div>"
      ],
      "text/plain": [
       "   funding_status                                              essay  \\\n",
       "0               1  Our classroom is a fun, safe place for childre...   \n",
       "1               0  Was your primary educational experience filled...   \n",
       "2               1  If you are going to grow a garden, you better ...   \n",
       "3               1  My students are amazing!  They are pushing the...   \n",
       "4               1  My students all come from low-income household...   \n",
       "\n",
       "                                              scores  compound  comp_score  \n",
       "0  {'neg': 0.019, 'neu': 0.844, 'pos': 0.138, 'co...    0.9758           1  \n",
       "1  {'neg': 0.015, 'neu': 0.924, 'pos': 0.06, 'com...    0.9013           1  \n",
       "2  {'neg': 0.0, 'neu': 0.894, 'pos': 0.106, 'comp...    0.9753           1  \n",
       "3  {'neg': 0.023, 'neu': 0.81, 'pos': 0.167, 'com...    0.9949           1  \n",
       "4  {'neg': 0.086, 'neu': 0.756, 'pos': 0.158, 'co...    0.9231           1  "
      ]
     },
     "execution_count": 119,
     "metadata": {},
     "output_type": "execute_result"
    }
   ],
   "source": [
    "essays_data_essay.head()"
   ]
  },
  {
   "cell_type": "code",
   "execution_count": 120,
   "metadata": {},
   "outputs": [],
   "source": [
    "essays_data_essay.to_csv(\"essays_data_essay\", header=True, index=False)"
   ]
  },
  {
   "cell_type": "code",
   "execution_count": 122,
   "metadata": {},
   "outputs": [
    {
     "data": {
      "text/plain": [
       "funding_status\n",
       "0    0.954627\n",
       "1    0.953735\n",
       "Name: compound, dtype: float64"
      ]
     },
     "execution_count": 122,
     "metadata": {},
     "output_type": "execute_result"
    }
   ],
   "source": [
    "mean_sent_score = essays_data_essay.groupby(\"funding_status\")[\"compound\"].mean()\n",
    "mean_sent_score"
   ]
  },
  {
   "cell_type": "code",
   "execution_count": 150,
   "metadata": {},
   "outputs": [],
   "source": [
    "from sklearn.metrics import accuracy_score,classification_report,confusion_matrix"
   ]
  },
  {
   "cell_type": "code",
   "execution_count": 151,
   "metadata": {},
   "outputs": [
    {
     "data": {
      "text/plain": [
       "0.6935815440840567"
      ]
     },
     "execution_count": 151,
     "metadata": {},
     "output_type": "execute_result"
    }
   ],
   "source": [
    "accuracy_score(essays_data_essay['funding_status'],essays_data_essay['comp_score'])"
   ]
  },
  {
   "cell_type": "code",
   "execution_count": 152,
   "metadata": {},
   "outputs": [
    {
     "name": "stdout",
     "output_type": "stream",
     "text": [
      "              precision    recall  f1-score   support\n",
      "\n",
      "           0       0.28      0.01      0.02     34356\n",
      "           1       0.70      0.99      0.82     79472\n",
      "\n",
      "   micro avg       0.69      0.69      0.69    113828\n",
      "   macro avg       0.49      0.50      0.42    113828\n",
      "weighted avg       0.57      0.69      0.58    113828\n",
      "\n"
     ]
    }
   ],
   "source": [
    "print(classification_report(essays_data_essay['funding_status'],essays_data_essay['comp_score']))"
   ]
  },
  {
   "cell_type": "code",
   "execution_count": 153,
   "metadata": {},
   "outputs": [
    {
     "name": "stdout",
     "output_type": "stream",
     "text": [
      "[[  322 34034]\n",
      " [  845 78627]]\n"
     ]
    },
    {
     "data": {
      "text/plain": [
       "<matplotlib.axes._subplots.AxesSubplot at 0x220fcef5ef0>"
      ]
     },
     "execution_count": 153,
     "metadata": {},
     "output_type": "execute_result"
    },
    {
     "data": {
      "image/png": "[encoded data removed]",
      "text/plain": [
       "<Figure size 432x288 with 2 Axes>"
      ]
     },
     "metadata": {
      "needs_background": "light"
     },
     "output_type": "display_data"
    }
   ],
   "source": [
    "cm = confusion_matrix(essays_data_essay['funding_status'],essays_data_essay['comp_score'])\n",
    "print(cm)\n",
    "sns.heatmap(cm, annot=True)"
   ]
  },
  {
   "cell_type": "markdown",
   "metadata": {},
   "source": [
    "## Analysis Results:\n",
    "\n",
    "#### Both Naïve Bayes and Linear SVC Text Classification test results showed low F1 scores with high “false positives”. Naïve Bayes weighted average F1 score was 0.57 while Linear SVC was 0.62. Based on these test results, it is determined that ‘essays’ are not a good predictor of whether project requests will be funded. \n",
    "\n",
    "#### Keywords from need statements for funded and not funded projects were compared to explore their impact on funding results. Of the 500 most used words in both funded and not funded projects’ need statements, an overwhelming 448 or 90% words were shared by both lists. Therefore, need statements are also not a good predictor of whether project requests will be funded. \n",
    "\n",
    "#### Sentiment analysis were performed on essays for all projects. Both funded and not funded projects averaged a highly positive sentiment compound score of 0.95, which indicates that most of the essays have a positive tone, and sentiment compound score is again not a good predictor of whether project requests will be funded.\n",
    "\n",
    "#### In conclusion, all NLP analysis results are conclusive that data from written statements have no predictive value of funding success. \n",
    "\n"
   ]
  },
  {
   "cell_type": "code",
   "execution_count": null,
   "metadata": {},
   "outputs": [],
   "source": []
  }
 ],
 "metadata": {
  "kernelspec": {
   "display_name": "Python 3",
   "language": "python",
   "name": "python3"
  },
  "language_info": {
   "codemirror_mode": {
    "name": "ipython",
    "version": 3
   },
   "file_extension": ".py",
   "mimetype": "text/x-python",
   "name": "python",
   "nbconvert_exporter": "python",
   "pygments_lexer": "ipython3",
   "version": "3.7.1"
  }
 },
 "nbformat": 4,
 "nbformat_minor": 2
}

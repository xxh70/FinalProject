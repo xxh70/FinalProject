{
 "cells": [
  {
   "cell_type": "code",
   "execution_count": 2,
   "metadata": {},
   "outputs": [],
   "source": [
    "import pandas as pd"
   ]
  },
  {
   "cell_type": "code",
   "execution_count": 3,
   "metadata": {},
   "outputs": [],
   "source": [
    "no_metro = pd.read_csv('../Data/clean-metro-sales-aux-exc.csv', low_memory = False)"
   ]
  },
  {
   "cell_type": "code",
   "execution_count": 4,
   "metadata": {},
   "outputs": [
    {
     "data": {
      "text/plain": [
       "Index(['funding_status', 'school_charter', 'school_magnet', 'school_kipp',\n",
       "       'school_nlns', 'school_year_round', 'school_charter_ready_promise',\n",
       "       'teacher_prefix', 'teacher_teach_for_america',\n",
       "       'teacher_ny_teaching_fellow', 'primary_focus_subject',\n",
       "       'primary_focus_area', 'resource_type', 'poverty_level', 'grade_level',\n",
       "       'total_price_excluding_optional_support',\n",
       "       'total_price_including_optional_support', 'students_reached',\n",
       "       'total_donations', 'num_donors', 'eligible_double_your_impact_match',\n",
       "       'eligible_almost_home_match'],\n",
       "      dtype='object')"
      ]
     },
     "execution_count": 4,
     "metadata": {},
     "output_type": "execute_result"
    }
   ],
   "source": [
    "no_metro.columns"
   ]
  },
  {
   "cell_type": "code",
   "execution_count": 5,
   "metadata": {},
   "outputs": [],
   "source": [
    "no_metro = no_metro[['funding_status', 'primary_focus_subject', 'primary_focus_area', 'resource_type', 'grade_level', 'total_price_excluding_optional_support', 'total_price_including_optional_support']]"
   ]
  },
  {
   "cell_type": "code",
   "execution_count": 6,
   "metadata": {},
   "outputs": [],
   "source": [
    "X = no_metro.drop('funding_status', axis=1)\n",
    "y = no_metro['funding_status']"
   ]
  },
  {
   "cell_type": "code",
   "execution_count": 7,
   "metadata": {},
   "outputs": [],
   "source": [
    "from sklearn.model_selection import train_test_split\n",
    "\n",
    "X_train, X_test, y_train, y_test = train_test_split(X, y, random_state=1, stratify=y)"
   ]
  },
  {
   "cell_type": "code",
   "execution_count": 8,
   "metadata": {},
   "outputs": [
    {
     "name": "stdout",
     "output_type": "stream",
     "text": [
      "k: 21, Train/Test Score: 0.7238506110260838/0.6983213749139977\n",
      "k: 23, Train/Test Score: 0.7226699803891283/0.6991111922380264\n",
      "k: 25, Train/Test Score: 0.7218462301726599/0.7002344879877561\n",
      "k: 27, Train/Test Score: 0.7208446247958176/0.7008101770594926\n",
      "k: 29, Train/Test Score: 0.719912055303594/0.7015859531866496\n",
      "k: 31, Train/Test Score: 0.7193211549352467/0.7017895505412881\n",
      "k: 33, Train/Test Score: 0.7187045123726347/0.7026039399598422\n",
      "k: 35, Train/Test Score: 0.7182867867657039/0.7030286861652087\n",
      "k: 37, Train/Test Score: 0.7178842724553841/0.7031199539448743\n",
      "k: 39, Train/Test Score: 0.7173940006646167/0.7033972675830887\n"
     ]
    }
   ],
   "source": [
    "#K Nearest Neighbors\n",
    "from sklearn.neighbors import KNeighborsClassifier\n",
    "\n",
    "#To assign KNN, we loop through different k values to see which has the highest accuracy\n",
    "train_scores = []\n",
    "test_scores = []\n",
    "\n",
    "for k in range(21, 40, 2):\n",
    "    knn = KNeighborsClassifier(n_neighbors = k)\n",
    "    knn.fit(X_train, y_train)\n",
    "    train_score = knn.score(X_train, y_train)\n",
    "    test_score = knn.score(X_test, y_test)\n",
    "    train_scores.append(train_score)\n",
    "    test_scores.append(test_score)\n",
    "    print(f'k: {k}, Train/Test Score: {train_score}/{test_score}')"
   ]
  },
  {
   "cell_type": "code",
   "execution_count": 10,
   "metadata": {},
   "outputs": [
    {
     "name": "stdout",
     "output_type": "stream",
     "text": [
      "k: 41, Train/Test Score: 0.7169165999709816/0.7037693593001868\n",
      "k: 43, Train/Test Score: 0.7167492757082614/0.7038009519931478\n",
      "k: 45, Train/Test Score: 0.7163572922955953/0.7042888835844368\n",
      "k: 47, Train/Test Score: 0.7160401952662445/0.7040080596470043\n",
      "k: 49, Train/Test Score: 0.7160355148672873/0.7043661101672306\n",
      "k: 51, Train/Test Score: 0.7157968145204697/0.704611831112484\n",
      "k: 53, Train/Test Score: 0.7154762071919011/0.7048926550499165\n",
      "k: 55, Train/Test Score: 0.7153229241260525/0.7052015613810921\n",
      "k: 57, Train/Test Score: 0.7151438988659393/0.7052507055701428\n",
      "k: 59, Train/Test Score: 0.7148817965243357/0.7052120922787458\n"
     ]
    }
   ],
   "source": [
    "#K Nearest Neighbors\n",
    "from sklearn.neighbors import KNeighborsClassifier\n",
    "\n",
    "#To assign KNN, we loop through different k values to see which has the highest accuracy\n",
    "train_scores = []\n",
    "test_scores = []\n",
    "\n",
    "for k in range(41, 60, 2):\n",
    "    knn = KNeighborsClassifier(n_neighbors = k)\n",
    "    knn.fit(X_train, y_train)\n",
    "    train_score = knn.score(X_train, y_train)\n",
    "    test_score = knn.score(X_test, y_test)\n",
    "    train_scores.append(train_score)\n",
    "    test_scores.append(test_score)\n",
    "    print(f'k: {k}, Train/Test Score: {train_score}/{test_score}')"
   ]
  },
  {
   "cell_type": "code",
   "execution_count": 12,
   "metadata": {},
   "outputs": [
    {
     "data": {
      "image/png": "[encoded data removed]",
      "text/plain": [
       "<Figure size 432x288 with 1 Axes>"
      ]
     },
     "metadata": {
      "needs_background": "light"
     },
     "output_type": "display_data"
    }
   ],
   "source": [
    "import matplotlib.pyplot as plt    \n",
    "#You can also plot it if you want to have a look at it\n",
    "plt.plot(range(41, 60, 2), train_scores, marker='o')\n",
    "plt.plot(range(41, 60, 2), test_scores, marker=\"x\")\n",
    "plt.xlabel(\"k neighbors\")\n",
    "plt.ylabel(\"Testing accuracy Score\")\n",
    "plt.show()"
   ]
  },
  {
   "cell_type": "code",
   "execution_count": 13,
   "metadata": {},
   "outputs": [
    {
     "name": "stdout",
     "output_type": "stream",
     "text": [
      "k=9 Test Acc: 0.705\n"
     ]
    }
   ],
   "source": [
    "#We predict using the value of k where train and test converge\n",
    "knn = KNeighborsClassifier(n_neighbors=57)\n",
    "knn.fit(X_train, y_train)\n",
    "print('k=9 Test Acc: %.3f' % knn.score(X_test, y_test))"
   ]
  },
  {
   "cell_type": "code",
   "execution_count": 14,
   "metadata": {},
   "outputs": [
    {
     "name": "stdout",
     "output_type": "stream",
     "text": [
      "0.5542509511617415 0.7229732783316253 26383.080579882873\n"
     ]
    }
   ],
   "source": [
    "#Predict a value\n",
    "predicted = knn.predict(X_test)\n",
    "\n",
    "from sklearn.metrics import roc_auc_score\n",
    "rocauc = roc_auc_score(y_test, predicted)\n",
    "\n",
    "from sklearn.metrics import average_precision_score\n",
    "\n",
    "average_precision = average_precision_score(y_test, predicted)\n",
    "\n",
    "\n",
    "from sklearn.metrics import log_loss\n",
    "from math import exp\n",
    "\n",
    "lol = log_loss(y_test, predicted)\n",
    "\n",
    "print(rocauc, average_precision, exp(lol))"
   ]
  },
  {
   "cell_type": "code",
   "execution_count": 15,
   "metadata": {},
   "outputs": [
    {
     "name": "stdout",
     "output_type": "stream",
     "text": [
      "[[ 15031  70622]\n",
      " [ 13345 185878]]\n"
     ]
    },
    {
     "data": {
      "image/png": "[encoded data removed]",
      "text/plain": [
       "<Figure size 432x288 with 2 Axes>"
      ]
     },
     "metadata": {
      "needs_background": "light"
     },
     "output_type": "display_data"
    }
   ],
   "source": [
    "import seaborn as sns\n",
    "from sklearn.metrics import confusion_matrix\n",
    "import matplotlib.pyplot as plt\n",
    "cm = confusion_matrix(y_test,predicted)\n",
    "print(cm)\n",
    "sns.heatmap(cm, annot=True)\n",
    "plt.show()"
   ]
  },
  {
   "cell_type": "code",
   "execution_count": null,
   "metadata": {},
   "outputs": [],
   "source": []
  }
 ],
 "metadata": {
  "kernelspec": {
   "display_name": "Python 3",
   "language": "python",
   "name": "python3"
  },
  "language_info": {
   "codemirror_mode": {
    "name": "ipython",
    "version": 3
   },
   "file_extension": ".py",
   "mimetype": "text/x-python",
   "name": "python",
   "nbconvert_exporter": "python",
   "pygments_lexer": "ipython3",
   "version": "3.7.1"
  }
 },
 "nbformat": 4,
 "nbformat_minor": 2
}

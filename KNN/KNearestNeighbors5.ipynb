{
 "cells": [
  {
   "cell_type": "code",
   "execution_count": 1,
   "metadata": {},
   "outputs": [],
   "source": [
    "import pandas as pd"
   ]
  },
  {
   "cell_type": "code",
   "execution_count": 2,
   "metadata": {},
   "outputs": [],
   "source": [
    "no_metro = pd.read_csv('../Data/clean-metro-sales-aux-exc.csv', low_memory = False)"
   ]
  },
  {
   "cell_type": "code",
   "execution_count": 3,
   "metadata": {},
   "outputs": [
    {
     "data": {
      "text/plain": [
       "Index(['funding_status', 'school_charter', 'school_magnet', 'school_kipp',\n",
       "       'school_nlns', 'school_year_round', 'school_charter_ready_promise',\n",
       "       'teacher_prefix', 'teacher_teach_for_america',\n",
       "       'teacher_ny_teaching_fellow', 'primary_focus_subject',\n",
       "       'primary_focus_area', 'resource_type', 'poverty_level', 'grade_level',\n",
       "       'total_price_excluding_optional_support',\n",
       "       'total_price_including_optional_support', 'students_reached',\n",
       "       'total_donations', 'num_donors', 'eligible_double_your_impact_match',\n",
       "       'eligible_almost_home_match'],\n",
       "      dtype='object')"
      ]
     },
     "execution_count": 3,
     "metadata": {},
     "output_type": "execute_result"
    }
   ],
   "source": [
    "no_metro.columns"
   ]
  },
  {
   "cell_type": "code",
   "execution_count": 3,
   "metadata": {},
   "outputs": [],
   "source": [
    "no_metro = no_metro[['funding_status', 'total_price_excluding_optional_support', 'total_price_including_optional_support', 'students_reached', 'eligible_double_your_impact_match', 'eligible_almost_home_match']]"
   ]
  },
  {
   "cell_type": "code",
   "execution_count": 4,
   "metadata": {},
   "outputs": [],
   "source": [
    "X = no_metro.drop('funding_status', axis=1)\n",
    "y = no_metro['funding_status']"
   ]
  },
  {
   "cell_type": "code",
   "execution_count": 5,
   "metadata": {},
   "outputs": [],
   "source": [
    "from sklearn.model_selection import train_test_split\n",
    "\n",
    "X_train, X_test, y_train, y_test = train_test_split(X, y, random_state=1, stratify=y)"
   ]
  },
  {
   "cell_type": "code",
   "execution_count": 6,
   "metadata": {},
   "outputs": [
    {
     "name": "stdout",
     "output_type": "stream",
     "text": [
      "k: 1, Train/Test Score: 0.9484091323944454/0.6209859728443252\n",
      "k: 3, Train/Test Score: 0.8030499819804641/0.6502934610146169\n",
      "k: 5, Train/Test Score: 0.7670179306084051/0.6654544433367501\n",
      "k: 7, Train/Test Score: 0.7505803694706937/0.6744443196338056\n",
      "k: 9, Train/Test Score: 0.7413693443229101/0.6805908535643578\n",
      "k: 11, Train/Test Score: 0.7351175014158207/0.6856035608475266\n",
      "k: 13, Train/Test Score: 0.7308712094618945/0.6886891138600655\n",
      "k: 15, Train/Test Score: 0.7277201308639548/0.6911814263047782\n",
      "k: 17, Train/Test Score: 0.7255343845509391/0.6932981367331751\n",
      "k: 19, Train/Test Score: 0.7236704156662314/0.6947233182156447\n"
     ]
    }
   ],
   "source": [
    "#K Nearest Neighbors\n",
    "from sklearn.neighbors import KNeighborsClassifier\n",
    "\n",
    "#To assign KNN, we loop through different k values to see which has the highest accuracy\n",
    "train_scores = []\n",
    "test_scores = []\n",
    "\n",
    "for k in range(1, 20, 2):\n",
    "    knn = KNeighborsClassifier(n_neighbors = k)\n",
    "    knn.fit(X_train, y_train)\n",
    "    train_score = knn.score(X_train, y_train)\n",
    "    test_score = knn.score(X_test, y_test)\n",
    "    train_scores.append(train_score)\n",
    "    test_scores.append(test_score)\n",
    "    print(f'k: {k}, Train/Test Score: {train_score}/{test_score}')\n",
    "    \n",
    "    "
   ]
  },
  {
   "cell_type": "code",
   "execution_count": 8,
   "metadata": {},
   "outputs": [
    {
     "name": "stdout",
     "output_type": "stream",
     "text": [
      "k: 21, Train/Test Score: 0.7220989717163491/0.6965697356042629\n",
      "k: 23, Train/Test Score: 0.7209078101817399/0.697829933023491\n",
      "k: 25, Train/Test Score: 0.7199810911882129/0.6988022859068507\n",
      "k: 27, Train/Test Score: 0.7192509489508886/0.6997957005855179\n",
      "k: 29, Train/Test Score: 0.7185980332963582/0.7007505019727882\n",
      "k: 31, Train/Test Score: 0.7179345867441741/0.7012068408711158\n",
      "k: 33, Train/Test Score: 0.7173705986698307/0.7017474269506733\n",
      "k: 35, Train/Test Score: 0.7164169673822997/0.7019018801162611\n",
      "k: 37, Train/Test Score: 0.7162531534187975/0.7024038529044215\n",
      "k: 39, Train/Test Score: 0.7158588298066527/0.7029058256925821\n"
     ]
    }
   ],
   "source": [
    "#K Nearest Neighbors\n",
    "from sklearn.neighbors import KNeighborsClassifier\n",
    "\n",
    "#To assign KNN, we loop through different k values to see which has the highest accuracy\n",
    "train_scores = []\n",
    "test_scores = []\n",
    "\n",
    "for k in range(21, 40, 2):\n",
    "    knn = KNeighborsClassifier(n_neighbors = k)\n",
    "    knn.fit(X_train, y_train)\n",
    "    train_score = knn.score(X_train, y_train)\n",
    "    test_score = knn.score(X_test, y_test)\n",
    "    train_scores.append(train_score)\n",
    "    test_scores.append(test_score)\n",
    "    print(f'k: {k}, Train/Test Score: {train_score}/{test_score}')\n",
    "    "
   ]
  },
  {
   "cell_type": "code",
   "execution_count": 10,
   "metadata": {},
   "outputs": [
    {
     "name": "stdout",
     "output_type": "stream",
     "text": [
      "k: 41, Train/Test Score: 0.7154984390869478/0.7032287732206294\n",
      "k: 43, Train/Test Score: 0.7150655021834061/0.7036991533158287\n",
      "k: 45, Train/Test Score: 0.7149145593170362/0.7040291214423118\n",
      "k: 47, Train/Test Score: 0.7144710915158408/0.7044679088445499\n",
      "k: 49, Train/Test Score: 0.7141668655836223/0.7049242477428777\n",
      "k: 51, Train/Test Score: 0.7139293353365441/0.7048294696639942\n",
      "k: 53, Train/Test Score: 0.7137924336670458/0.704794366671815\n",
      "k: 55, Train/Test Score: 0.7135525632204889/0.7047136297898032\n",
      "k: 57, Train/Test Score: 0.7132658887843599/0.7047838357741614\n",
      "k: 59, Train/Test Score: 0.7132963113775819/0.704762773978854\n"
     ]
    }
   ],
   "source": [
    "#K Nearest Neighbors\n",
    "from sklearn.neighbors import KNeighborsClassifier\n",
    "\n",
    "#To assign KNN, we loop through different k values to see which has the highest accuracy\n",
    "train_scores = []\n",
    "test_scores = []\n",
    "\n",
    "for k in range(41, 60, 2):\n",
    "    knn = KNeighborsClassifier(n_neighbors = k)\n",
    "    knn.fit(X_train, y_train)\n",
    "    train_score = knn.score(X_train, y_train)\n",
    "    test_score = knn.score(X_test, y_test)\n",
    "    train_scores.append(train_score)\n",
    "    test_scores.append(test_score)\n",
    "    print(f'k: {k}, Train/Test Score: {train_score}/{test_score}')"
   ]
  },
  {
   "cell_type": "code",
   "execution_count": 11,
   "metadata": {},
   "outputs": [
    {
     "data": {
      "image/png": "[encoded data removed]",
      "text/plain": [
       "<Figure size 432x288 with 1 Axes>"
      ]
     },
     "metadata": {
      "needs_background": "light"
     },
     "output_type": "display_data"
    }
   ],
   "source": [
    "import matplotlib.pyplot as plt    \n",
    "#You can also plot it if you want to have a look at it\n",
    "plt.plot(range(41, 60, 2), train_scores, marker='o')\n",
    "plt.plot(range(41, 60, 2), test_scores, marker=\"x\")\n",
    "plt.xlabel(\"k neighbors\")\n",
    "plt.ylabel(\"Testing accuracy Score\")\n",
    "plt.show()"
   ]
  },
  {
   "cell_type": "code",
   "execution_count": 12,
   "metadata": {},
   "outputs": [
    {
     "name": "stdout",
     "output_type": "stream",
     "text": [
      "k=49 Test Acc: 0.705\n"
     ]
    }
   ],
   "source": [
    "#We predict using the value of k where train and test converge\n",
    "knn = KNeighborsClassifier(n_neighbors=49)\n",
    "knn.fit(X_train, y_train)\n",
    "print('k=49 Test Acc: %.3f' % knn.score(X_test, y_test))"
   ]
  },
  {
   "cell_type": "code",
   "execution_count": 13,
   "metadata": {},
   "outputs": [
    {
     "name": "stdout",
     "output_type": "stream",
     "text": [
      "0.5512788005540785 0.7216308547680143 26682.306864251415\n"
     ]
    }
   ],
   "source": [
    "#Predict a value\n",
    "predicted = knn.predict(X_test)\n",
    "\n",
    "from sklearn.metrics import roc_auc_score\n",
    "rocauc = roc_auc_score(y_test, predicted)\n",
    "\n",
    "from sklearn.metrics import average_precision_score\n",
    "\n",
    "average_precision = average_precision_score(y_test, predicted)\n",
    "\n",
    "\n",
    "from sklearn.metrics import log_loss\n",
    "from math import exp\n",
    "\n",
    "lol = log_loss(y_test, predicted)\n",
    "\n",
    "print(rocauc, average_precision, exp(lol))"
   ]
  },
  {
   "cell_type": "code",
   "execution_count": 14,
   "metadata": {},
   "outputs": [
    {
     "name": "stdout",
     "output_type": "stream",
     "text": [
      "[[ 14208  71445]\n",
      " [ 12615 186608]]\n"
     ]
    },
    {
     "data": {
      "image/png": "[encoded data removed]",
      "text/plain": [
       "<Figure size 432x288 with 2 Axes>"
      ]
     },
     "metadata": {
      "needs_background": "light"
     },
     "output_type": "display_data"
    }
   ],
   "source": [
    "import seaborn as sns\n",
    "from sklearn.metrics import confusion_matrix\n",
    "import matplotlib.pyplot as plt\n",
    "cm = confusion_matrix(y_test,predicted)\n",
    "print(cm)\n",
    "sns.heatmap(cm, annot=True)\n",
    "plt.show()"
   ]
  }
 ],
 "metadata": {
  "kernelspec": {
   "display_name": "Python 3",
   "language": "python",
   "name": "python3"
  },
  "language_info": {
   "codemirror_mode": {
    "name": "ipython",
    "version": 3
   },
   "file_extension": ".py",
   "mimetype": "text/x-python",
   "name": "python",
   "nbconvert_exporter": "python",
   "pygments_lexer": "ipython3",
   "version": "3.7.1"
  }
 },
 "nbformat": 4,
 "nbformat_minor": 2
}

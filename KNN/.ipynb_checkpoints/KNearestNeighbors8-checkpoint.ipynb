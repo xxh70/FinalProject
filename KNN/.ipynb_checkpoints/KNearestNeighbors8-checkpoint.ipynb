{
 "cells": [
  {
   "cell_type": "code",
   "execution_count": 2,
   "metadata": {},
   "outputs": [],
   "source": [
    "import pandas as pd"
   ]
  },
  {
   "cell_type": "code",
   "execution_count": 3,
   "metadata": {},
   "outputs": [],
   "source": [
    "no_metro = pd.read_csv('../Data/clean-metro-sales-aux-exc.csv', low_memory = False)"
   ]
  },
  {
   "cell_type": "code",
   "execution_count": 4,
   "metadata": {},
   "outputs": [
    {
     "data": {
      "text/plain": [
       "Index(['funding_status', 'school_charter', 'school_magnet', 'school_kipp',\n",
       "       'school_nlns', 'school_year_round', 'school_charter_ready_promise',\n",
       "       'teacher_prefix', 'teacher_teach_for_america',\n",
       "       'teacher_ny_teaching_fellow', 'primary_focus_subject',\n",
       "       'primary_focus_area', 'resource_type', 'poverty_level', 'grade_level',\n",
       "       'total_price_excluding_optional_support',\n",
       "       'total_price_including_optional_support', 'students_reached',\n",
       "       'total_donations', 'num_donors', 'eligible_double_your_impact_match',\n",
       "       'eligible_almost_home_match'],\n",
       "      dtype='object')"
      ]
     },
     "execution_count": 4,
     "metadata": {},
     "output_type": "execute_result"
    }
   ],
   "source": [
    "no_metro.columns"
   ]
  },
  {
   "cell_type": "code",
   "execution_count": 4,
   "metadata": {},
   "outputs": [],
   "source": [
    "no_metro = no_metro[['funding_status', 'poverty_level', 'grade_level', 'total_price_excluding_optional_support', 'total_price_including_optional_support']]"
   ]
  },
  {
   "cell_type": "code",
   "execution_count": 5,
   "metadata": {},
   "outputs": [],
   "source": [
    "X = no_metro.drop('funding_status', axis=1)\n",
    "y = no_metro['funding_status']"
   ]
  },
  {
   "cell_type": "code",
   "execution_count": 6,
   "metadata": {},
   "outputs": [],
   "source": [
    "from sklearn.model_selection import train_test_split\n",
    "\n",
    "X_train, X_test, y_train, y_test = train_test_split(X, y, random_state=1, stratify=y)"
   ]
  },
  {
   "cell_type": "code",
   "execution_count": 7,
   "metadata": {},
   "outputs": [
    {
     "name": "stdout",
     "output_type": "stream",
     "text": [
      "k: 1, Train/Test Score: 0.8501663881829287/0.6189324478018506\n",
      "k: 3, Train/Test Score: 0.7842453090701451/0.6523329448602199\n",
      "k: 5, Train/Test Score: 0.7591536902605578/0.6683750122860472\n",
      "k: 7, Train/Test Score: 0.7471554875337574/0.6784952049312684\n",
      "k: 9, Train/Test Score: 0.7393836850653149/0.6844451621056179\n",
      "k: 11, Train/Test Score: 0.7346143585279209/0.688668052064758\n",
      "k: 13, Train/Test Score: 0.7312081981868135/0.6912762043836617\n",
      "k: 15, Train/Test Score: 0.7285871747707775/0.6942985720102781\n",
      "k: 17, Train/Test Score: 0.7264868457387308/0.6959168199497325\n",
      "k: 19, Train/Test Score: 0.724948164581549/0.6973630632275095\n"
     ]
    }
   ],
   "source": [
    "#K Nearest Neighbors\n",
    "from sklearn.neighbors import KNeighborsClassifier\n",
    "\n",
    "#To assign KNN, we loop through different k values to see which has the highest accuracy\n",
    "train_scores = []\n",
    "test_scores = []\n",
    "\n",
    "for k in range(1, 20, 2):\n",
    "    knn = KNeighborsClassifier(n_neighbors = k)\n",
    "    knn.fit(X_train, y_train)\n",
    "    train_score = knn.score(X_train, y_train)\n",
    "    test_score = knn.score(X_test, y_test)\n",
    "    train_scores.append(train_score)\n",
    "    test_scores.append(test_score)\n",
    "    print(f'k: {k}, Train/Test Score: {train_score}/{test_score}')\n",
    "\n",
    "  "
   ]
  },
  {
   "cell_type": "code",
   "execution_count": 8,
   "metadata": {},
   "outputs": [
    {
     "name": "stdout",
     "output_type": "stream",
     "text": [
      "k: 21, Train/Test Score: 0.7236236116766593/0.698381050000702\n",
      "k: 23, Train/Test Score: 0.7224078780475248/0.6996974122074165\n",
      "k: 25, Train/Test Score: 0.7214647776576475/0.7006697650907764\n",
      "k: 27, Train/Test Score: 0.7205848626536926/0.7016596694702256\n",
      "k: 29, Train/Test Score: 0.7200033230832596/0.7020984568724639\n",
      "k: 31, Train/Test Score: 0.7192731808459353/0.702575857566099\n",
      "k: 33, Train/Test Score: 0.7188250326457827/0.7037342563080077\n",
      "k: 35, Train/Test Score: 0.7185734612018329/0.7043029247813084\n",
      "k: 37, Train/Test Score: 0.7180293648230576/0.7044503573484604\n",
      "k: 39, Train/Test Score: 0.7175683455257726/0.705092742105337\n"
     ]
    }
   ],
   "source": [
    "#K Nearest Neighbors\n",
    "from sklearn.neighbors import KNeighborsClassifier\n",
    "\n",
    "#To assign KNN, we loop through different k values to see which has the highest accuracy\n",
    "train_scores = []\n",
    "test_scores = []\n",
    "\n",
    "for k in range(21, 40, 2):\n",
    "    knn = KNeighborsClassifier(n_neighbors = k)\n",
    "    knn.fit(X_train, y_train)\n",
    "    train_score = knn.score(X_train, y_train)\n",
    "    test_score = knn.score(X_test, y_test)\n",
    "    train_scores.append(train_score)\n",
    "    test_scores.append(test_score)\n",
    "    print(f'k: {k}, Train/Test Score: {train_score}/{test_score}')"
   ]
  },
  {
   "cell_type": "code",
   "execution_count": 13,
   "metadata": {},
   "outputs": [
    {
     "name": "stdout",
     "output_type": "stream",
     "text": [
      "k: 41, Train/Test Score: 0.7172606092943362/0.7051453965936056\n",
      "k: 43, Train/Test Score: 0.7170640325381336/0.7058123534450077\n",
      "k: 45, Train/Test Score: 0.7165433381541443/0.7057702298543927\n",
      "k: 47, Train/Test Score: 0.7162239009253148/0.7056684311770736\n",
      "k: 49, Train/Test Score: 0.7159781799800615/0.7061001979808759\n",
      "k: 51, Train/Test Score: 0.7157710723262051/0.7061774245636698\n",
      "k: 53, Train/Test Score: 0.7155382224780841/0.7062897541386428\n",
      "k: 55, Train/Test Score: 0.7153533467192743/0.7066197222651259\n",
      "k: 57, Train/Test Score: 0.7152456975432586/0.7068900153049046\n",
      "k: 59, Train/Test Score: 0.7151614503620288/0.7070865920611072\n"
     ]
    }
   ],
   "source": [
    "#K Nearest Neighbors\n",
    "from sklearn.neighbors import KNeighborsClassifier\n",
    "\n",
    "#To assign KNN, we loop through different k values to see which has the highest accuracy\n",
    "train_scores = []\n",
    "test_scores = []\n",
    "\n",
    "for k in range(41, 60, 2):\n",
    "    knn = KNeighborsClassifier(n_neighbors = k)\n",
    "    knn.fit(X_train, y_train)\n",
    "    train_score = knn.score(X_train, y_train)\n",
    "    test_score = knn.score(X_test, y_test)\n",
    "    train_scores.append(train_score)\n",
    "    test_scores.append(test_score)\n",
    "    print(f'k: {k}, Train/Test Score: {train_score}/{test_score}')"
   ]
  },
  {
   "cell_type": "code",
   "execution_count": 15,
   "metadata": {},
   "outputs": [
    {
     "name": "stdout",
     "output_type": "stream",
     "text": [
      "k: 61, Train/Test Score: 0.7149929559995694/0.7072024319352982\n",
      "k: 63, Train/Test Score: 0.7147519154532732/0.7073007203133995\n",
      "k: 65, Train/Test Score: 0.7145845911905531/0.70728316881731\n",
      "k: 67, Train/Test Score: 0.7145132151064557/0.7074376219828978\n",
      "k: 69, Train/Test Score: 0.7144219473267901/0.7077395077156377\n",
      "k: 71, Train/Test Score: 0.7142710044604202/0.7076798326289333\n",
      "k: 73, Train/Test Score: 0.7142031386755407/0.7075359103609992\n",
      "k: 75, Train/Test Score: 0.7141212316937896/0.7075464412586528\n",
      "k: 77, Train/Test Score: 0.7141341027909219/0.7076201575422288\n",
      "k: 79, Train/Test Score: 0.7138801911474935/0.7077324871172018\n"
     ]
    }
   ],
   "source": [
    "from sklearn.neighbors import KNeighborsClassifier\n",
    "\n",
    "#To assign KNN, we loop through different k values to see which has the highest accuracy\n",
    "train_scores = []\n",
    "test_scores = []\n",
    "\n",
    "for k in range(61, 80, 2):\n",
    "    knn = KNeighborsClassifier(n_neighbors = k)\n",
    "    knn.fit(X_train, y_train)\n",
    "    train_score = knn.score(X_train, y_train)\n",
    "    test_score = knn.score(X_test, y_test)\n",
    "    train_scores.append(train_score)\n",
    "    test_scores.append(test_score)\n",
    "    print(f'k: {k}, Train/Test Score: {train_score}/{test_score}')"
   ]
  },
  {
   "cell_type": "code",
   "execution_count": 17,
   "metadata": {},
   "outputs": [
    {
     "name": "stdout",
     "output_type": "stream",
     "text": [
      "k: 81, Train/Test Score: 0.7137280781813842/0.7080273522515059\n",
      "k: 83, Train/Test Score: 0.7136765937928549/0.7076377090383185\n",
      "k: 85, Train/Test Score: 0.7136391506011972/0.7077535489125093\n",
      "k: 87, Train/Test Score: 0.7135584137191854/0.7077324871172018\n",
      "k: 89, Train/Test Score: 0.7133828987582902/0.7078693887867001\n",
      "k: 91, Train/Test Score: 0.7133162030731499/0.7078202445976495\n",
      "k: 93, Train/Test Score: 0.7132483372882704/0.7079115123773151\n",
      "k: 95, Train/Test Score: 0.7132682289838386/0.7079360844718404\n",
      "k: 97, Train/Test Score: 0.7131617499075621/0.7077921622039063\n",
      "k: 99, Train/Test Score: 0.7129523020542271/0.7079746977632373\n"
     ]
    }
   ],
   "source": [
    "for k in range(81, 100, 2):\n",
    "    knn = KNeighborsClassifier(n_neighbors = k)\n",
    "    knn.fit(X_train, y_train)\n",
    "    train_score = knn.score(X_train, y_train)\n",
    "    test_score = knn.score(X_test, y_test)\n",
    "    train_scores.append(train_score)\n",
    "    test_scores.append(test_score)\n",
    "    print(f'k: {k}, Train/Test Score: {train_score}/{test_score}')"
   ]
  },
  {
   "cell_type": "code",
   "execution_count": 14,
   "metadata": {},
   "outputs": [
    {
     "data": {
      "image/png": "[encoded data removed]",
      "text/plain": [
       "<Figure size 432x288 with 1 Axes>"
      ]
     },
     "metadata": {
      "needs_background": "light"
     },
     "output_type": "display_data"
    }
   ],
   "source": [
    "import matplotlib.pyplot as plt    \n",
    "#You can also plot it if you want to have a look at it\n",
    "plt.plot(range(41, 60, 2), train_scores, marker='o')\n",
    "plt.plot(range(41, 60, 2), test_scores, marker=\"x\")\n",
    "plt.xlabel(\"k neighbors\")\n",
    "plt.ylabel(\"Testing accuracy Score\")\n",
    "plt.show()"
   ]
  },
  {
   "cell_type": "code",
   "execution_count": 12,
   "metadata": {
    "scrolled": true
   },
   "outputs": [
    {
     "name": "stdout",
     "output_type": "stream",
     "text": [
      "k=9 Test Acc: 0.697\n"
     ]
    }
   ],
   "source": [
    "#We predict using the value of k where train and test converge\n",
    "knn = KNeighborsClassifier(n_neighbors=19)\n",
    "knn.fit(X_train, y_train)\n",
    "print('k=9 Test Acc: %.3f' % knn.score(X_test, y_test))"
   ]
  },
  {
   "cell_type": "code",
   "execution_count": 14,
   "metadata": {},
   "outputs": [
    {
     "data": {
      "text/plain": [
       "-0.43930092158517464"
      ]
     },
     "execution_count": 14,
     "metadata": {},
     "output_type": "execute_result"
    }
   ],
   "source": [
    "#Predict a value\n",
    "predicted = knn.predict(X_test)\n",
    "\n",
    "from sklearn.metrics import roc_auc_score\n",
    "rocauc = roc_auc_score(y_test, predicted)\n",
    "\n",
    "from sklearn.metrics import average_precision_score\n",
    "\n",
    "average_precision = average_precision_score(y_test, predicted)\n",
    "\n",
    "\n",
    "from sklearn.metrics import log_loss\n",
    "from math import exp\n",
    "\n",
    "lol = log_loss(y_test, predicted)\n",
    "\n",
    "print(rocauc, average_precision, exp(lol))"
   ]
  },
  {
   "cell_type": "code",
   "execution_count": 15,
   "metadata": {},
   "outputs": [
    {
     "data": {
      "text/plain": [
       "0.3026369367724905"
      ]
     },
     "execution_count": 15,
     "metadata": {},
     "output_type": "execute_result"
    }
   ],
   "source": [
    "import seaborn as sns\n",
    "from sklearn.metrics import confusion_matrix\n",
    "import matplotlib.pyplot as plt\n",
    "cm = confusion_matrix(y_test,predicted)\n",
    "print(cm)\n",
    "sns.heatmap(cm, annot=True)\n",
    "plt.show()"
   ]
  },
  {
   "cell_type": "code",
   "execution_count": 19,
   "metadata": {},
   "outputs": [
    {
     "data": {
      "text/plain": [
       "['../knn.pk1']"
      ]
     },
     "execution_count": 19,
     "metadata": {},
     "output_type": "execute_result"
    }
   ],
   "source": [
    "from sklearn.externals import joblib\n",
    "\n",
    "joblib.dump(knn, '../knn.pk1')"
   ]
  },
  {
   "cell_type": "code",
   "execution_count": null,
   "metadata": {},
   "outputs": [],
   "source": []
  }
 ],
 "metadata": {
  "kernelspec": {
   "display_name": "Python 3",
   "language": "python",
   "name": "python3"
  },
  "language_info": {
   "codemirror_mode": {
    "name": "ipython",
    "version": 3
   },
   "file_extension": ".py",
   "mimetype": "text/x-python",
   "name": "python",
   "nbconvert_exporter": "python",
   "pygments_lexer": "ipython3",
   "version": "3.7.1"
  }
 },
 "nbformat": 4,
 "nbformat_minor": 2
}

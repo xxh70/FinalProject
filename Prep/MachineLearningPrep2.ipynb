{
 "cells": [
  {
   "cell_type": "code",
   "execution_count": null,
   "metadata": {},
   "outputs": [],
   "source": [
    "import pandas as pd"
   ]
  },
  {
   "cell_type": "code",
   "execution_count": null,
   "metadata": {},
   "outputs": [],
   "source": [
    "projects = pd.read_csv('../Data/opendata_projects000.gz', escapechar='\\\\', names=['_projectid', '_teacher_acctid', '_schoolid', 'school_ncesid', 'school_latitude', 'school_longitude', 'school_city', 'school_state', 'school_zip', 'school_metro', 'school_district', 'school_county', 'school_charter', 'school_magnet', 'school_year_round', 'school_nlns', 'school_kipp', 'school_charter_ready_promise', 'teacher_prefix', 'teacher_teach_for_america', 'teacher_ny_teaching_fellow', 'primary_focus_subject', 'primary_focus_area' ,'secondary_focus_subject', 'secondary_focus_area', 'resource_type', 'poverty_level', 'grade_level', 'vendor_shipping_charges', 'sales_tax', 'payment_processing_charges', 'fulfillment_labor_materials', 'total_price_excluding_optional_support', 'total_price_including_optional_support', 'students_reached', 'total_donations', 'num_donors', 'eligible_double_your_impact_match', 'eligible_almost_home_match', 'funding_status', 'date_posted', 'date_completed', 'date_thank_you_packet_mailed', 'date_expiration'])\n",
    "projects"
   ]
  },
  {
   "cell_type": "code",
   "execution_count": null,
   "metadata": {},
   "outputs": [],
   "source": [
    "#Remove all live projects\n",
    "projects = projects.loc[projects['funding_status'] != 'live', :]"
   ]
  },
  {
   "cell_type": "code",
   "execution_count": null,
   "metadata": {},
   "outputs": [],
   "source": [
    "#Recode projects via dictionary\n",
    "\n",
    "projects['school_metro'] = projects[\"school_metro\"].replace(['urban'], 0)\n",
    "projects['school_metro'] = projects['school_metro'].replace(['suburban'], 1)\n",
    "projects['school_metro'] = projects['school_metro'].replace(['rural'], 2)\n",
    "\n",
    "projects['school_charter']=projects['school_charter'].replace('t', 1)\n",
    "projects['school_charter']=projects['school_charter'].replace('f', 0)\n",
    "\n",
    "projects['school_magnet']=projects['school_magnet'].replace('t', 1)\n",
    "projects['school_magnet']=projects['school_magnet'].replace('f', 0)\n",
    "\n",
    "projects['school_year_round']=projects['school_year_round'].replace('t', 1)\n",
    "projects['school_year_round']=projects['school_year_round'].replace('f', 0)\n",
    "\n",
    "projects['school_nlns']=projects['school_nlns'].replace('t', 1)\n",
    "projects['school_nlns']=projects['school_nlns'].replace('f', 0)\n",
    "\n",
    "projects['school_kipp']=projects['school_kipp'].replace('t', 1)\n",
    "projects['school_kipp']=projects['school_kipp'].replace('f', 0)\n",
    "\n",
    "projects['school_charter_ready_promise']=projects['school_charter_ready_promise'].replace('t', 1)\n",
    "projects['school_charter_ready_promise']=projects['school_charter_ready_promise'].replace('f', 0)\n",
    "\n",
    "projects['teacher_prefix']=projects['teacher_prefix'].replace('Mrs.', 0)\n",
    "projects['teacher_prefix']=projects['teacher_prefix'].replace('Ms.', 1)\n",
    "projects['teacher_prefix']=projects['teacher_prefix'].replace('Mr.', 2)\n",
    "projects['teacher_prefix']=projects['teacher_prefix'].replace('Teacher', 3)\n",
    "projects['teacher_prefix']=projects['teacher_prefix'].replace('Dr.', 4)\n",
    "projects['teacher_prefix']=projects['teacher_prefix'].replace('Mr. & Mrs.', 5)\n",
    "\n",
    "projects['teacher_teach_for_america']=projects['teacher_teach_for_america'].replace('t', 1)\n",
    "projects['teacher_teach_for_america']=projects['teacher_teach_for_america'].replace('f', 0)\n",
    "\n",
    "projects['teacher_ny_teaching_fellow']=projects['teacher_ny_teaching_fellow'].replace('t', 1)\n",
    "projects['teacher_ny_teaching_fellow']=projects['teacher_ny_teaching_fellow'].replace('f', 0)\n",
    "\n",
    "projects['primary_focus_subject']=projects['primary_focus_subject'].replace('Literacy', 0)\n",
    "projects['primary_focus_subject']=projects['primary_focus_subject'].replace('Mathematics', 1)\n",
    "projects['primary_focus_subject']=projects['primary_focus_subject'].replace('Literature & Writing', 2)\n",
    "projects['primary_focus_subject']=projects['primary_focus_subject'].replace('Special Needs', 3)\n",
    "projects['primary_focus_subject']=projects['primary_focus_subject'].replace('Visual Arts', 5)\n",
    "projects['primary_focus_subject']=projects['primary_focus_subject'].replace('Applied Sciences', 4)\n",
    "projects['primary_focus_subject']=projects['primary_focus_subject'].replace('Environmental Science', 6)\n",
    "projects['primary_focus_subject']=projects['primary_focus_subject'].replace('Health & Life Science', 7)\n",
    "projects['primary_focus_subject']=projects['primary_focus_subject'].replace('Music', 8)\n",
    "projects['primary_focus_subject']=projects['primary_focus_subject'].replace('Health & Wellness', 9)\n",
    "projects['primary_focus_subject']=projects['primary_focus_subject'].replace('History & Geography', 10)\n",
    "projects['primary_focus_subject']=projects['primary_focus_subject'].replace('Early Development', 11)\n",
    "projects['primary_focus_subject']=projects['primary_focus_subject'].replace('Other', 12)\n",
    "projects['primary_focus_subject']=projects['primary_focus_subject'].replace('Performing Arts', 13)\n",
    "projects['primary_focus_subject']=projects['primary_focus_subject'].replace('ESL', 14)\n",
    "projects['primary_focus_subject']=projects['primary_focus_subject'].replace('Character Education', 15)\n",
    "projects['primary_focus_subject']=projects['primary_focus_subject'].replace('Social Sciences', 16)\n",
    "projects['primary_focus_subject']=projects['primary_focus_subject'].replace('Gym & Fitness', 17)\n",
    "projects['primary_focus_subject']=projects['primary_focus_subject'].replace('College & Career Prep',18)\n",
    "projects['primary_focus_subject']=projects['primary_focus_subject'].replace('Team Sports', 19)\n",
    "projects['primary_focus_subject']=projects['primary_focus_subject'].replace('Foreign Languages', 20)\n",
    "projects['primary_focus_subject']=projects['primary_focus_subject'].replace('Extracurricular', 21)\n",
    "projects['primary_focus_subject']=projects['primary_focus_subject'].replace('Civics & Government', 22)\n",
    "projects['primary_focus_subject']=projects['primary_focus_subject'].replace('Economics', 23)\n",
    "projects['primary_focus_subject']=projects['primary_focus_subject'].replace('Financial Literacy', 24)\n",
    "projects['primary_focus_subject']=projects['primary_focus_subject'].replace('Nutrition', 25)\n",
    "projects['primary_focus_subject']=projects['primary_focus_subject'].replace('Community Service', 26)\n",
    "projects['primary_focus_subject']=projects['primary_focus_subject'].replace('Parent Involvement', 27)\n",
    "\n",
    "projects['primary_focus_area']=projects['primary_focus_area'].replace('Literacy & Language', 0)\n",
    "projects['primary_focus_area']=projects['primary_focus_area'].replace('Math & Science', 1)\n",
    "projects['primary_focus_area']=projects['primary_focus_area'].replace('Music & The Arts', 2)\n",
    "projects['primary_focus_area']=projects['primary_focus_area'].replace('Applied Learning', 3)\n",
    "projects['primary_focus_area']=projects['primary_focus_area'].replace('Special Needs', 4)\n",
    "projects['primary_focus_area']=projects['primary_focus_area'].replace('Health & Sports', 5)\n",
    "projects['primary_focus_area']=projects['primary_focus_area'].replace('History & Civics', 6)\n",
    "\n",
    "projects['resource_type']=projects['resource_type'].replace('Supplies', 0)\n",
    "projects['resource_type']=projects['resource_type'].replace('Technology', 1)\n",
    "projects['resource_type']=projects['resource_type'].replace('Books', 2)\n",
    "projects['resource_type']=projects['resource_type'].replace('Other', 3)\n",
    "projects['resource_type']=projects['resource_type'].replace('Trips', 4)\n",
    "projects['resource_type']=projects['resource_type'].replace('Visitors', 5)\n",
    "\n",
    "projects['poverty_level']=projects['poverty_level'].replace('highest poverty', 0)\n",
    "projects['poverty_level']=projects['poverty_level'].replace('high poverty', 1)\n",
    "projects['poverty_level']=projects['poverty_level'].replace('moderate poverty', 2)\n",
    "projects['poverty_level']=projects['poverty_level'].replace('low poverty', 3)\n",
    "\n",
    "projects['grade_level']=projects['grade_level'].replace('Grades PreK-2', 0)\n",
    "projects['grade_level']=projects['grade_level'].replace('Grades 3-5', 1)\n",
    "projects['grade_level']=projects['grade_level'].replace('Grades 6-8', 2)\n",
    "projects['grade_level']=projects['grade_level'].replace('Grades 9-12', 3)\n",
    "\n",
    "projects['eligible_double_your_impact_match']=projects['eligible_double_your_impact_match'].replace('t', 1)\n",
    "projects['eligible_double_your_impact_match']=projects['eligible_double_your_impact_match'].replace('f', 0)\n",
    "\n",
    "projects['eligible_almost_home_match']=projects['eligible_almost_home_match'].replace('t', 1)\n",
    "projects['eligible_almost_home_match']=projects['eligible_almost_home_match'].replace('f', 0)\n",
    "\n",
    "projects['funding_status']=projects['funding_status'].replace('completed', 1)\n",
    "projects['funding_status']=projects['funding_status'].replace(['expired', 'reallocated'], 0)"
   ]
  },
  {
   "cell_type": "code",
   "execution_count": 5,
   "metadata": {},
   "outputs": [],
   "source": [
    "projects = projects[['funding_status','school_zip', '_projectid', 'school_metro','school_charter', 'school_magnet', 'school_year_round', 'school_nlns', 'school_kipp', \n",
    "                     'school_charter_ready_promise', 'teacher_prefix', 'teacher_teach_for_america', 'teacher_ny_teaching_fellow',\n",
    "                    'primary_focus_subject', 'primary_focus_area', 'resource_type', 'poverty_level', 'grade_level', 'vendor_shipping_charges',\n",
    "                    'sales_tax', 'payment_processing_charges', 'fulfillment_labor_materials', 'total_price_excluding_optional_support',\n",
    "                    'total_price_including_optional_support', 'students_reached', 'total_donations', 'num_donors', 'eligible_double_your_impact_match',\n",
    "                    'eligible_almost_home_match']]"
   ]
  },
  {
   "cell_type": "code",
   "execution_count": null,
   "metadata": {},
   "outputs": [],
   "source": [
    "projects['date_posted'] = pd.to_datetime(projects['date_posted'])"
   ]
  },
  {
   "cell_type": "code",
   "execution_count": null,
   "metadata": {},
   "outputs": [],
   "source": []
  },
  {
   "cell_type": "code",
   "execution_count": null,
   "metadata": {},
   "outputs": [],
   "source": [
    "projects['school_metro'] = pd.to_numeric(projects[\"school_metro\"])\n",
    "\n",
    "projects['school_charter']=pd.to_numeric(projects['school_charter'])\n",
    "\n",
    "projects['school_magnet']=pd.to_numeric(projects['school_magnet'])\n",
    "\n",
    "projects['school_year_round']=pd.to_numeric(projects['school_year_round'])\n",
    "\n",
    "projects['school_nlns']=pd.to_numeric(projects['school_nlns'])\n",
    "\n",
    "projects['school_kipp']=pd.to_numeric(projects['school_kipp'])\n",
    "\n",
    "projects['school_charter_ready_promise']=pd.to_numeric(projects['school_charter_ready_promise'])\n",
    "\n",
    "projects['teacher_prefix']=pd.to_numeric(projects['teacher_prefix'])\n",
    "\n",
    "projects['teacher_teach_for_america']=pd.to_numeric(projects['teacher_teach_for_america'])\n",
    "\n",
    "projects['teacher_ny_teaching_fellow']=pd.to_numeric(projects['teacher_ny_teaching_fellow'])\n",
    "\n",
    "projects['primary_focus_subject']=pd.to_numeric(projects['primary_focus_subject'])\n",
    "\n",
    "projects['primary_focus_area']=pd.to_numeric(projects['primary_focus_area'])\n",
    "\n",
    "projects['resource_type']=pd.to_numeric(projects['resource_type'])\n",
    "\n",
    "projects['poverty_level']=pd.to_numeric(projects['poverty_level'])\n",
    "\n",
    "projects['grade_level']=pd.to_numeric(projects['grade_level'])\n",
    "\n",
    "projects['eligible_double_your_impact_match']=pd.to_numeric(projects['eligible_double_your_impact_match'])\n",
    "\n",
    "projects['eligible_almost_home_match']=pd.to_numeric(projects['eligible_almost_home_match'])\n",
    "\n",
    "projects['funding_status']=pd.to_numeric(projects['funding_status'])\n"
   ]
  },
  {
   "cell_type": "code",
   "execution_count": null,
   "metadata": {},
   "outputs": [],
   "source": []
  },
  {
   "cell_type": "code",
   "execution_count": null,
   "metadata": {},
   "outputs": [],
   "source": []
  },
  {
   "cell_type": "code",
   "execution_count": 8,
   "metadata": {},
   "outputs": [],
   "source": [
    "projects.to_csv('../Data/projects-encoded-2.csv', index = False)"
   ]
  },
  {
   "cell_type": "code",
   "execution_count": null,
   "metadata": {},
   "outputs": [],
   "source": [
    "X = projects.drop('funding_status', axis=1)\n",
    "y = projects['funding_status']"
   ]
  },
  {
   "cell_type": "code",
   "execution_count": null,
   "metadata": {},
   "outputs": [],
   "source": [
    "X.columns"
   ]
  },
  {
   "cell_type": "code",
   "execution_count": null,
   "metadata": {},
   "outputs": [],
   "source": []
  },
  {
   "cell_type": "code",
   "execution_count": null,
   "metadata": {},
   "outputs": [],
   "source": []
  }
 ],
 "metadata": {
  "kernelspec": {
   "display_name": "Python 3",
   "language": "python",
   "name": "python3"
  },
  "language_info": {
   "codemirror_mode": {
    "name": "ipython",
    "version": 3
   },
   "file_extension": ".py",
   "mimetype": "text/x-python",
   "name": "python",
   "nbconvert_exporter": "python",
   "pygments_lexer": "ipython3",
   "version": "3.7.1"
  }
 },
 "nbformat": 4,
 "nbformat_minor": 2
}

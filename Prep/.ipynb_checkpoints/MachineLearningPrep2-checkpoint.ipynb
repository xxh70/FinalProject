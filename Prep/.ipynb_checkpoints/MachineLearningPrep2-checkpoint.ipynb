{
 "cells": [
  {
   "cell_type": "code",
   "execution_count": 1,
   "metadata": {},
   "outputs": [],
   "source": [
    "import pandas as pd"
   ]
  },
  {
   "cell_type": "code",
   "execution_count": null,
   "metadata": {},
   "outputs": [],
   "source": [
    "projects = pd.read_csv('../Data/opendata_projects000.gz', escapechar='\\\\', names=['_projectid', '_teacher_acctid', '_schoolid', 'school_ncesid', 'school_latitude', 'school_longitude', 'school_city', 'school_state', 'school_zip', 'school_metro', 'school_district', 'school_county', 'school_charter', 'school_magnet', 'school_year_round', 'school_nlns', 'school_kipp', 'school_charter_ready_promise', 'teacher_prefix', 'teacher_teach_for_america', 'teacher_ny_teaching_fellow', 'primary_focus_subject', 'primary_focus_area' ,'secondary_focus_subject', 'secondary_focus_area', 'resource_type', 'poverty_level', 'grade_level', 'vendor_shipping_charges', 'sales_tax', 'payment_processing_charges', 'fulfillment_labor_materials', 'total_price_excluding_optional_support', 'total_price_including_optional_support', 'students_reached', 'total_donations', 'num_donors', 'eligible_double_your_impact_match', 'eligible_almost_home_match', 'funding_status', 'date_posted', 'date_completed', 'date_thank_you_packet_mailed', 'date_expiration'])\n",
    "projects"
   ]
  },
  {
   "cell_type": "code",
   "execution_count": null,
   "metadata": {},
   "outputs": [],
   "source": [
    "#Remove all live projects\n",
    "projects = projects.loc[projects['funding_status'] != 'live', :]"
   ]
  },
  {
   "cell_type": "code",
   "execution_count": null,
   "metadata": {},
   "outputs": [],
   "source": [
    "#Recode projects via dictionary\n",
    "\n",
    "projects['school_metro'] = projects[\"school_metro\"].replace(['urban'], 0)\n",
    "projects['school_metro'] = projects['school_metro'].replace(['suburban'], 1)\n",
    "projects['school_metro'] = projects['school_metro'].replace(['rural'], 2)\n",
    "\n",
    "projects['school_charter']=projects['school_charter'].replace('t', 1)\n",
    "projects['school_charter']=projects['school_charter'].replace('f', 0)\n",
    "\n",
    "projects['school_magnet']=projects['school_magnet'].replace('t', 1)\n",
    "projects['school_magnet']=projects['school_magnet'].replace('f', 0)\n",
    "\n",
    "projects['school_year_round']=projects['school_year_round'].replace('t', 1)\n",
    "projects['school_year_round']=projects['school_year_round'].replace('f', 0)\n",
    "\n",
    "projects['school_nlns']=projects['school_nlns'].replace('t', 1)\n",
    "projects['school_nlns']=projects['school_nlns'].replace('f', 0)\n",
    "\n",
    "projects['school_kipp']=projects['school_kipp'].replace('t', 1)\n",
    "projects['school_kipp']=projects['school_kipp'].replace('f', 0)\n",
    "\n",
    "projects['school_charter_ready_promise']=projects['school_charter_ready_promise'].replace('t', 1)\n",
    "projects['school_charter_ready_promise']=projects['school_charter_ready_promise'].replace('f', 0)\n",
    "\n",
    "projects['teacher_prefix']=projects['teacher_prefix'].replace('Mrs.', 0)\n",
    "projects['teacher_prefix']=projects['teacher_prefix'].replace('Ms.', 1)\n",
    "projects['teacher_prefix']=projects['teacher_prefix'].replace('Mr.', 2)\n",
    "projects['teacher_prefix']=projects['teacher_prefix'].replace('Teacher', 3)\n",
    "projects['teacher_prefix']=projects['teacher_prefix'].replace('Dr.', 4)\n",
    "projects['teacher_prefix']=projects['teacher_prefix'].replace('Mr. & Mrs.', 5)\n",
    "\n",
    "projects['teacher_teach_for_america']=projects['teacher_teach_for_america'].replace('t', 1)\n",
    "projects['teacher_teach_for_america']=projects['teacher_teach_for_america'].replace('f', 0)\n",
    "\n",
    "projects['teacher_ny_teaching_fellow']=projects['teacher_ny_teaching_fellow'].replace('t', 1)\n",
    "projects['teacher_ny_teaching_fellow']=projects['teacher_ny_teaching_fellow'].replace('f', 0)\n",
    "\n",
    "projects['primary_focus_subject']=projects['primary_focus_subject'].replace('Literacy', 0)\n",
    "projects['primary_focus_subject']=projects['primary_focus_subject'].replace('Mathematics', 1)\n",
    "projects['primary_focus_subject']=projects['primary_focus_subject'].replace('Literature & Writing', 2)\n",
    "projects['primary_focus_subject']=projects['primary_focus_subject'].replace('Special Needs', 3)\n",
    "projects['primary_focus_subject']=projects['primary_focus_subject'].replace('Visual Arts', 5)\n",
    "projects['primary_focus_subject']=projects['primary_focus_subject'].replace('Applied Sciences', 4)\n",
    "projects['primary_focus_subject']=projects['primary_focus_subject'].replace('Environmental Science', 6)\n",
    "projects['primary_focus_subject']=projects['primary_focus_subject'].replace('Health & Life Science', 7)\n",
    "projects['primary_focus_subject']=projects['primary_focus_subject'].replace('Music', 8)\n",
    "projects['primary_focus_subject']=projects['primary_focus_subject'].replace('Health & Wellness', 9)\n",
    "projects['primary_focus_subject']=projects['primary_focus_subject'].replace('History & Geography', 10)\n",
    "projects['primary_focus_subject']=projects['primary_focus_subject'].replace('Early Development', 11)\n",
    "projects['primary_focus_subject']=projects['primary_focus_subject'].replace('Other', 12)\n",
    "projects['primary_focus_subject']=projects['primary_focus_subject'].replace('Performing Arts', 13)\n",
    "projects['primary_focus_subject']=projects['primary_focus_subject'].replace('ESL', 14)\n",
    "projects['primary_focus_subject']=projects['primary_focus_subject'].replace('Character Education', 15)\n",
    "projects['primary_focus_subject']=projects['primary_focus_subject'].replace('Social Sciences', 16)\n",
    "projects['primary_focus_subject']=projects['primary_focus_subject'].replace('Gym & Fitness', 17)\n",
    "projects['primary_focus_subject']=projects['primary_focus_subject'].replace('College & Career Prep',18)\n",
    "projects['primary_focus_subject']=projects['primary_focus_subject'].replace('Team Sports', 19)\n",
    "projects['primary_focus_subject']=projects['primary_focus_subject'].replace('Foreign Languages', 20)\n",
    "projects['primary_focus_subject']=projects['primary_focus_subject'].replace('Extracurricular', 21)\n",
    "projects['primary_focus_subject']=projects['primary_focus_subject'].replace('Civics & Government', 22)\n",
    "projects['primary_focus_subject']=projects['primary_focus_subject'].replace('Economics', 23)\n",
    "projects['primary_focus_subject']=projects['primary_focus_subject'].replace('Financial Literacy', 24)\n",
    "projects['primary_focus_subject']=projects['primary_focus_subject'].replace('Nutrition', 25)\n",
    "projects['primary_focus_subject']=projects['primary_focus_subject'].replace('Community Service', 26)\n",
    "projects['primary_focus_subject']=projects['primary_focus_subject'].replace('Parent Involvement', 27)\n",
    "\n",
    "projects['primary_focus_area']=projects['primary_focus_area'].replace('Literacy & Language', 0)\n",
    "projects['primary_focus_area']=projects['primary_focus_area'].replace('Math & Science', 1)\n",
    "projects['primary_focus_area']=projects['primary_focus_area'].replace('Music & The Arts', 2)\n",
    "projects['primary_focus_area']=projects['primary_focus_area'].replace('Applied Learning', 3)\n",
    "projects['primary_focus_area']=projects['primary_focus_area'].replace('Special Needs', 4)\n",
    "projects['primary_focus_area']=projects['primary_focus_area'].replace('Health & Sports', 5)\n",
    "projects['primary_focus_area']=projects['primary_focus_area'].replace('History & Civics', 6)\n",
    "\n",
    "projects['resource_type']=projects['resource_type'].replace('Supplies', 0)\n",
    "projects['resource_type']=projects['resource_type'].replace('Technology', 1)\n",
    "projects['resource_type']=projects['resource_type'].replace('Books', 2)\n",
    "projects['resource_type']=projects['resource_type'].replace('Other', 3)\n",
    "projects['resource_type']=projects['resource_type'].replace('Trips', 4)\n",
    "projects['resource_type']=projects['resource_type'].replace('Visitors', 5)\n",
    "\n",
    "projects['poverty_level']=projects['poverty_level'].replace('highest poverty', 0)\n",
    "projects['poverty_level']=projects['poverty_level'].replace('high poverty', 1)\n",
    "projects['poverty_level']=projects['poverty_level'].replace('moderate poverty', 2)\n",
    "projects['poverty_level']=projects['poverty_level'].replace('low poverty', 3)\n",
    "\n",
    "projects['grade_level']=projects['grade_level'].replace('Grades PreK-2', 0)\n",
    "projects['grade_level']=projects['grade_level'].replace('Grades 3-5', 1)\n",
    "projects['grade_level']=projects['grade_level'].replace('Grades 6-8', 2)\n",
    "projects['grade_level']=projects['grade_level'].replace('Grades 9-12', 3)\n",
    "\n",
    "projects['eligible_double_your_impact_match']=projects['eligible_double_your_impact_match'].replace('t', 1)\n",
    "projects['eligible_double_your_impact_match']=projects['eligible_double_your_impact_match'].replace('f', 0)\n",
    "\n",
    "projects['eligible_almost_home_match']=projects['eligible_almost_home_match'].replace('t', 1)\n",
    "projects['eligible_almost_home_match']=projects['eligible_almost_home_match'].replace('f', 0)\n",
    "\n",
    "projects['funding_status']=projects['funding_status'].replace('completed', 1)\n",
    "projects['funding_status']=projects['funding_status'].replace(['expired', 'reallocated'], 0)"
   ]
  },
  {
   "cell_type": "code",
   "execution_count": null,
   "metadata": {},
   "outputs": [],
   "source": [
    "projects = projects[['funding_status','school_zip', '_projectid', 'school_metro','school_charter', 'school_magnet', 'school_year_round', 'school_nlns', 'school_kipp', \n",
    "                     'school_charter_ready_promise', 'teacher_prefix', 'teacher_teach_for_america', 'teacher_ny_teaching_fellow',\n",
    "                    'primary_focus_subject', 'primary_focus_area', 'resource_type', 'poverty_level', 'grade_level', 'vendor_shipping_charges',\n",
    "                    'sales_tax', 'payment_processing_charges', 'fulfillment_labor_materials', 'total_price_excluding_optional_support',\n",
    "                    'total_price_including_optional_support', 'students_reached', 'total_donations', 'num_donors', 'eligible_double_your_impact_match',\n",
    "                    'eligible_almost_home_match']]"
   ]
  },
  {
   "cell_type": "code",
   "execution_count": null,
   "metadata": {},
   "outputs": [],
   "source": [
    "projects['date_posted'] = pd.to_datetime(projects['date_posted'])"
   ]
  },
  {
   "cell_type": "code",
   "execution_count": 19,
   "metadata": {},
   "outputs": [
    {
     "data": {
      "text/plain": [
       "dtype('<M8[ns]')"
      ]
     },
     "execution_count": 19,
     "metadata": {},
     "output_type": "execute_result"
    }
   ],
   "source": []
  },
  {
   "cell_type": "code",
   "execution_count": 18,
   "metadata": {},
   "outputs": [
    {
     "name": "stderr",
     "output_type": "stream",
     "text": [
      "C:\\Users\\Caitlin\\Anaconda3\\lib\\site-packages\\ipykernel_launcher.py:1: SettingWithCopyWarning: \n",
      "A value is trying to be set on a copy of a slice from a DataFrame.\n",
      "Try using .loc[row_indexer,col_indexer] = value instead\n",
      "\n",
      "See the caveats in the documentation: http://pandas.pydata.org/pandas-docs/stable/indexing.html#indexing-view-versus-copy\n",
      "  \"\"\"Entry point for launching an IPython kernel.\n",
      "C:\\Users\\Caitlin\\Anaconda3\\lib\\site-packages\\ipykernel_launcher.py:3: SettingWithCopyWarning: \n",
      "A value is trying to be set on a copy of a slice from a DataFrame.\n",
      "Try using .loc[row_indexer,col_indexer] = value instead\n",
      "\n",
      "See the caveats in the documentation: http://pandas.pydata.org/pandas-docs/stable/indexing.html#indexing-view-versus-copy\n",
      "  This is separate from the ipykernel package so we can avoid doing imports until\n",
      "C:\\Users\\Caitlin\\Anaconda3\\lib\\site-packages\\ipykernel_launcher.py:5: SettingWithCopyWarning: \n",
      "A value is trying to be set on a copy of a slice from a DataFrame.\n",
      "Try using .loc[row_indexer,col_indexer] = value instead\n",
      "\n",
      "See the caveats in the documentation: http://pandas.pydata.org/pandas-docs/stable/indexing.html#indexing-view-versus-copy\n",
      "  \"\"\"\n",
      "C:\\Users\\Caitlin\\Anaconda3\\lib\\site-packages\\ipykernel_launcher.py:7: SettingWithCopyWarning: \n",
      "A value is trying to be set on a copy of a slice from a DataFrame.\n",
      "Try using .loc[row_indexer,col_indexer] = value instead\n",
      "\n",
      "See the caveats in the documentation: http://pandas.pydata.org/pandas-docs/stable/indexing.html#indexing-view-versus-copy\n",
      "  import sys\n",
      "C:\\Users\\Caitlin\\Anaconda3\\lib\\site-packages\\ipykernel_launcher.py:9: SettingWithCopyWarning: \n",
      "A value is trying to be set on a copy of a slice from a DataFrame.\n",
      "Try using .loc[row_indexer,col_indexer] = value instead\n",
      "\n",
      "See the caveats in the documentation: http://pandas.pydata.org/pandas-docs/stable/indexing.html#indexing-view-versus-copy\n",
      "  if __name__ == '__main__':\n",
      "C:\\Users\\Caitlin\\Anaconda3\\lib\\site-packages\\ipykernel_launcher.py:11: SettingWithCopyWarning: \n",
      "A value is trying to be set on a copy of a slice from a DataFrame.\n",
      "Try using .loc[row_indexer,col_indexer] = value instead\n",
      "\n",
      "See the caveats in the documentation: http://pandas.pydata.org/pandas-docs/stable/indexing.html#indexing-view-versus-copy\n",
      "  # This is added back by InteractiveShellApp.init_path()\n",
      "C:\\Users\\Caitlin\\Anaconda3\\lib\\site-packages\\ipykernel_launcher.py:13: SettingWithCopyWarning: \n",
      "A value is trying to be set on a copy of a slice from a DataFrame.\n",
      "Try using .loc[row_indexer,col_indexer] = value instead\n",
      "\n",
      "See the caveats in the documentation: http://pandas.pydata.org/pandas-docs/stable/indexing.html#indexing-view-versus-copy\n",
      "  del sys.path[0]\n",
      "C:\\Users\\Caitlin\\Anaconda3\\lib\\site-packages\\ipykernel_launcher.py:15: SettingWithCopyWarning: \n",
      "A value is trying to be set on a copy of a slice from a DataFrame.\n",
      "Try using .loc[row_indexer,col_indexer] = value instead\n",
      "\n",
      "See the caveats in the documentation: http://pandas.pydata.org/pandas-docs/stable/indexing.html#indexing-view-versus-copy\n",
      "  from ipykernel import kernelapp as app\n",
      "C:\\Users\\Caitlin\\Anaconda3\\lib\\site-packages\\ipykernel_launcher.py:17: SettingWithCopyWarning: \n",
      "A value is trying to be set on a copy of a slice from a DataFrame.\n",
      "Try using .loc[row_indexer,col_indexer] = value instead\n",
      "\n",
      "See the caveats in the documentation: http://pandas.pydata.org/pandas-docs/stable/indexing.html#indexing-view-versus-copy\n",
      "C:\\Users\\Caitlin\\Anaconda3\\lib\\site-packages\\ipykernel_launcher.py:19: SettingWithCopyWarning: \n",
      "A value is trying to be set on a copy of a slice from a DataFrame.\n",
      "Try using .loc[row_indexer,col_indexer] = value instead\n",
      "\n",
      "See the caveats in the documentation: http://pandas.pydata.org/pandas-docs/stable/indexing.html#indexing-view-versus-copy\n",
      "C:\\Users\\Caitlin\\Anaconda3\\lib\\site-packages\\ipykernel_launcher.py:21: SettingWithCopyWarning: \n",
      "A value is trying to be set on a copy of a slice from a DataFrame.\n",
      "Try using .loc[row_indexer,col_indexer] = value instead\n",
      "\n",
      "See the caveats in the documentation: http://pandas.pydata.org/pandas-docs/stable/indexing.html#indexing-view-versus-copy\n",
      "C:\\Users\\Caitlin\\Anaconda3\\lib\\site-packages\\ipykernel_launcher.py:23: SettingWithCopyWarning: \n",
      "A value is trying to be set on a copy of a slice from a DataFrame.\n",
      "Try using .loc[row_indexer,col_indexer] = value instead\n",
      "\n",
      "See the caveats in the documentation: http://pandas.pydata.org/pandas-docs/stable/indexing.html#indexing-view-versus-copy\n",
      "C:\\Users\\Caitlin\\Anaconda3\\lib\\site-packages\\ipykernel_launcher.py:25: SettingWithCopyWarning: \n",
      "A value is trying to be set on a copy of a slice from a DataFrame.\n",
      "Try using .loc[row_indexer,col_indexer] = value instead\n",
      "\n",
      "See the caveats in the documentation: http://pandas.pydata.org/pandas-docs/stable/indexing.html#indexing-view-versus-copy\n",
      "C:\\Users\\Caitlin\\Anaconda3\\lib\\site-packages\\ipykernel_launcher.py:27: SettingWithCopyWarning: \n",
      "A value is trying to be set on a copy of a slice from a DataFrame.\n",
      "Try using .loc[row_indexer,col_indexer] = value instead\n",
      "\n",
      "See the caveats in the documentation: http://pandas.pydata.org/pandas-docs/stable/indexing.html#indexing-view-versus-copy\n",
      "C:\\Users\\Caitlin\\Anaconda3\\lib\\site-packages\\ipykernel_launcher.py:29: SettingWithCopyWarning: \n",
      "A value is trying to be set on a copy of a slice from a DataFrame.\n",
      "Try using .loc[row_indexer,col_indexer] = value instead\n",
      "\n",
      "See the caveats in the documentation: http://pandas.pydata.org/pandas-docs/stable/indexing.html#indexing-view-versus-copy\n",
      "C:\\Users\\Caitlin\\Anaconda3\\lib\\site-packages\\ipykernel_launcher.py:31: SettingWithCopyWarning: \n",
      "A value is trying to be set on a copy of a slice from a DataFrame.\n",
      "Try using .loc[row_indexer,col_indexer] = value instead\n",
      "\n",
      "See the caveats in the documentation: http://pandas.pydata.org/pandas-docs/stable/indexing.html#indexing-view-versus-copy\n",
      "C:\\Users\\Caitlin\\Anaconda3\\lib\\site-packages\\ipykernel_launcher.py:33: SettingWithCopyWarning: \n",
      "A value is trying to be set on a copy of a slice from a DataFrame.\n",
      "Try using .loc[row_indexer,col_indexer] = value instead\n",
      "\n",
      "See the caveats in the documentation: http://pandas.pydata.org/pandas-docs/stable/indexing.html#indexing-view-versus-copy\n"
     ]
    },
    {
     "ename": "ValueError",
     "evalue": "Unable to parse string \"live\" at position 1061747",
     "output_type": "error",
     "traceback": [
      "\u001b[1;31m---------------------------------------------------------------------------\u001b[0m",
      "\u001b[1;31mValueError\u001b[0m                                Traceback (most recent call last)",
      "\u001b[1;32mpandas/_libs/src\\inference.pyx\u001b[0m in \u001b[0;36mpandas._libs.lib.maybe_convert_numeric\u001b[1;34m()\u001b[0m\n",
      "\u001b[1;31mValueError\u001b[0m: Unable to parse string \"live\"",
      "\nDuring handling of the above exception, another exception occurred:\n",
      "\u001b[1;31mValueError\u001b[0m                                Traceback (most recent call last)",
      "\u001b[1;32m<ipython-input-18-e5018461ea18>\u001b[0m in \u001b[0;36m<module>\u001b[1;34m\u001b[0m\n\u001b[0;32m     33\u001b[0m \u001b[0mprojects\u001b[0m\u001b[1;33m[\u001b[0m\u001b[1;34m'eligible_almost_home_match'\u001b[0m\u001b[1;33m]\u001b[0m\u001b[1;33m=\u001b[0m\u001b[0mpd\u001b[0m\u001b[1;33m.\u001b[0m\u001b[0mto_numeric\u001b[0m\u001b[1;33m(\u001b[0m\u001b[0mprojects\u001b[0m\u001b[1;33m[\u001b[0m\u001b[1;34m'eligible_almost_home_match'\u001b[0m\u001b[1;33m]\u001b[0m\u001b[1;33m)\u001b[0m\u001b[1;33m\u001b[0m\u001b[1;33m\u001b[0m\u001b[0m\n\u001b[0;32m     34\u001b[0m \u001b[1;33m\u001b[0m\u001b[0m\n\u001b[1;32m---> 35\u001b[1;33m \u001b[0mprojects\u001b[0m\u001b[1;33m[\u001b[0m\u001b[1;34m'funding_status'\u001b[0m\u001b[1;33m]\u001b[0m\u001b[1;33m=\u001b[0m\u001b[0mpd\u001b[0m\u001b[1;33m.\u001b[0m\u001b[0mto_numeric\u001b[0m\u001b[1;33m(\u001b[0m\u001b[0mprojects\u001b[0m\u001b[1;33m[\u001b[0m\u001b[1;34m'funding_status'\u001b[0m\u001b[1;33m]\u001b[0m\u001b[1;33m)\u001b[0m\u001b[1;33m\u001b[0m\u001b[1;33m\u001b[0m\u001b[0m\n\u001b[0m",
      "\u001b[1;32m~\\Anaconda3\\lib\\site-packages\\pandas\\core\\tools\\numeric.py\u001b[0m in \u001b[0;36mto_numeric\u001b[1;34m(arg, errors, downcast)\u001b[0m\n\u001b[0;32m    131\u001b[0m             \u001b[0mcoerce_numeric\u001b[0m \u001b[1;33m=\u001b[0m \u001b[1;32mFalse\u001b[0m \u001b[1;32mif\u001b[0m \u001b[0merrors\u001b[0m \u001b[1;32min\u001b[0m \u001b[1;33m(\u001b[0m\u001b[1;34m'ignore'\u001b[0m\u001b[1;33m,\u001b[0m \u001b[1;34m'raise'\u001b[0m\u001b[1;33m)\u001b[0m \u001b[1;32melse\u001b[0m \u001b[1;32mTrue\u001b[0m\u001b[1;33m\u001b[0m\u001b[1;33m\u001b[0m\u001b[0m\n\u001b[0;32m    132\u001b[0m             values = lib.maybe_convert_numeric(values, set(),\n\u001b[1;32m--> 133\u001b[1;33m                                                coerce_numeric=coerce_numeric)\n\u001b[0m\u001b[0;32m    134\u001b[0m \u001b[1;33m\u001b[0m\u001b[0m\n\u001b[0;32m    135\u001b[0m     \u001b[1;32mexcept\u001b[0m \u001b[0mException\u001b[0m\u001b[1;33m:\u001b[0m\u001b[1;33m\u001b[0m\u001b[1;33m\u001b[0m\u001b[0m\n",
      "\u001b[1;32mpandas/_libs/src\\inference.pyx\u001b[0m in \u001b[0;36mpandas._libs.lib.maybe_convert_numeric\u001b[1;34m()\u001b[0m\n",
      "\u001b[1;31mValueError\u001b[0m: Unable to parse string \"live\" at position 1061747"
     ]
    }
   ],
   "source": [
    "projects['school_metro'] = pd.to_numeric(projects[\"school_metro\"])\n",
    "\n",
    "projects['school_charter']=pd.to_numeric(projects['school_charter'])\n",
    "\n",
    "projects['school_magnet']=pd.to_numeric(projects['school_magnet'])\n",
    "\n",
    "projects['school_year_round']=pd.to_numeric(projects['school_year_round'])\n",
    "\n",
    "projects['school_nlns']=pd.to_numeric(projects['school_nlns'])\n",
    "\n",
    "projects['school_kipp']=pd.to_numeric(projects['school_kipp'])\n",
    "\n",
    "projects['school_charter_ready_promise']=pd.to_numeric(projects['school_charter_ready_promise'])\n",
    "\n",
    "projects['teacher_prefix']=pd.to_numeric(projects['teacher_prefix'])\n",
    "\n",
    "projects['teacher_teach_for_america']=pd.to_numeric(projects['teacher_teach_for_america'])\n",
    "\n",
    "projects['teacher_ny_teaching_fellow']=pd.to_numeric(projects['teacher_ny_teaching_fellow'])\n",
    "\n",
    "projects['primary_focus_subject']=pd.to_numeric(projects['primary_focus_subject'])\n",
    "\n",
    "projects['primary_focus_area']=pd.to_numeric(projects['primary_focus_area'])\n",
    "\n",
    "projects['resource_type']=pd.to_numeric(projects['resource_type'])\n",
    "\n",
    "projects['poverty_level']=pd.to_numeric(projects['poverty_level'])\n",
    "\n",
    "projects['grade_level']=pd.to_numeric(projects['grade_level'])\n",
    "\n",
    "projects['eligible_double_your_impact_match']=pd.to_numeric(projects['eligible_double_your_impact_match'])\n",
    "\n",
    "projects['eligible_almost_home_match']=pd.to_numeric(projects['eligible_almost_home_match'])\n",
    "\n",
    "projects['funding_status']=pd.to_numeric(projects['funding_status'])\n"
   ]
  },
  {
   "cell_type": "code",
   "execution_count": 20,
   "metadata": {},
   "outputs": [
    {
     "data": {
      "text/plain": [
       "dtype('O')"
      ]
     },
     "execution_count": 20,
     "metadata": {},
     "output_type": "execute_result"
    }
   ],
   "source": []
  },
  {
   "cell_type": "code",
   "execution_count": null,
   "metadata": {},
   "outputs": [],
   "source": []
  },
  {
   "cell_type": "code",
   "execution_count": 6,
   "metadata": {},
   "outputs": [],
   "source": [
    "projects.to_csv('Data/projects-encoded.csv', index = False)"
   ]
  },
  {
   "cell_type": "code",
   "execution_count": 7,
   "metadata": {},
   "outputs": [],
   "source": [
    "X = projects.drop('funding_status', axis=1)\n",
    "y = projects['funding_status']"
   ]
  },
  {
   "cell_type": "code",
   "execution_count": 8,
   "metadata": {},
   "outputs": [
    {
     "data": {
      "text/plain": [
       "Index(['_projectid', '_teacher_acctid', '_schoolid', 'school_ncesid',\n",
       "       'school_latitude', 'school_longitude', 'school_city', 'school_state',\n",
       "       'school_zip', 'school_metro', 'school_district', 'school_county',\n",
       "       'school_charter', 'school_magnet', 'school_year_round', 'school_nlns',\n",
       "       'school_kipp', 'school_charter_ready_promise', 'teacher_prefix',\n",
       "       'teacher_teach_for_america', 'teacher_ny_teaching_fellow',\n",
       "       'primary_focus_subject', 'primary_focus_area',\n",
       "       'secondary_focus_subject', 'secondary_focus_area', 'resource_type',\n",
       "       'poverty_level', 'grade_level', 'vendor_shipping_charges', 'sales_tax',\n",
       "       'payment_processing_charges', 'fulfillment_labor_materials',\n",
       "       'total_price_excluding_optional_support',\n",
       "       'total_price_including_optional_support', 'students_reached',\n",
       "       'total_donations', 'num_donors', 'eligible_double_your_impact_match',\n",
       "       'eligible_almost_home_match', 'date_posted', 'date_completed',\n",
       "       'date_thank_you_packet_mailed', 'date_expiration'],\n",
       "      dtype='object')"
      ]
     },
     "execution_count": 8,
     "metadata": {},
     "output_type": "execute_result"
    }
   ],
   "source": [
    "X.columns"
   ]
  },
  {
   "cell_type": "code",
   "execution_count": null,
   "metadata": {},
   "outputs": [],
   "source": []
  },
  {
   "cell_type": "code",
   "execution_count": null,
   "metadata": {},
   "outputs": [],
   "source": []
  }
 ],
 "metadata": {
  "kernelspec": {
   "display_name": "Python 3",
   "language": "python",
   "name": "python3"
  },
  "language_info": {
   "codemirror_mode": {
    "name": "ipython",
    "version": 3
   },
   "file_extension": ".py",
   "mimetype": "text/x-python",
   "name": "python",
   "nbconvert_exporter": "python",
   "pygments_lexer": "ipython3",
   "version": "3.7.1"
  }
 },
 "nbformat": 4,
 "nbformat_minor": 2
}

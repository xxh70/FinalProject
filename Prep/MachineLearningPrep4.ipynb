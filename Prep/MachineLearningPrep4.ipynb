{
 "cells": [
  {
   "cell_type": "code",
   "execution_count": 1,
   "metadata": {},
   "outputs": [],
   "source": [
    "import pandas as pd"
   ]
  },
  {
   "cell_type": "code",
   "execution_count": 9,
   "metadata": {},
   "outputs": [],
   "source": [
    "projects = pd.read_csv('../Data/projects-encoded-2.csv', low_memory = False)"
   ]
  },
  {
   "cell_type": "code",
   "execution_count": 14,
   "metadata": {},
   "outputs": [
    {
     "data": {
      "text/plain": [
       "funding_status                                 0\n",
       "school_zip                                     4\n",
       "_projectid                                     0\n",
       "school_metro                              134575\n",
       "school_charter                                 0\n",
       "school_magnet                                  0\n",
       "school_year_round                              0\n",
       "school_nlns                                    0\n",
       "school_kipp                                    0\n",
       "school_charter_ready_promise                   0\n",
       "teacher_prefix                                46\n",
       "teacher_teach_for_america                      0\n",
       "teacher_ny_teaching_fellow                     0\n",
       "primary_focus_subject                         46\n",
       "primary_focus_area                            46\n",
       "resource_type                                 52\n",
       "poverty_level                                  0\n",
       "grade_level                                   63\n",
       "vendor_shipping_charges                    35082\n",
       "sales_tax                                  35082\n",
       "payment_processing_charges                 35082\n",
       "fulfillment_labor_materials                35082\n",
       "total_price_excluding_optional_support         0\n",
       "total_price_including_optional_support         0\n",
       "students_reached                             155\n",
       "total_donations                                0\n",
       "num_donors                                     0\n",
       "eligible_double_your_impact_match              0\n",
       "eligible_almost_home_match                     0\n",
       "dtype: int64"
      ]
     },
     "execution_count": 14,
     "metadata": {},
     "output_type": "execute_result"
    }
   ],
   "source": [
    "projects.isna().sum()"
   ]
  },
  {
   "cell_type": "code",
   "execution_count": 15,
   "metadata": {},
   "outputs": [],
   "source": [
    "projects_no_nan_metro_excluded = projects.dropna(subset = ['school_zip', 'teacher_prefix', 'primary_focus_subject', 'primary_focus_area', 'resource_type', 'grade_level', 'students_reached'])"
   ]
  },
  {
   "cell_type": "code",
   "execution_count": 16,
   "metadata": {},
   "outputs": [],
   "source": [
    "projects_no_nan_metro_excluded = projects_no_nan_metro_excluded[['funding_status', 'school_zip', 'school_charter', 'school_magnet', 'school_kipp', 'school_nlns', 'school_year_round', 'school_charter_ready_promise', 'teacher_prefix', 'teacher_teach_for_america', 'teacher_ny_teaching_fellow', 'primary_focus_subject', 'primary_focus_area', 'resource_type', 'poverty_level', 'grade_level', 'total_price_excluding_optional_support', 'total_price_including_optional_support', 'students_reached', 'total_donations', 'num_donors', 'eligible_double_your_impact_match', 'eligible_almost_home_match']]"
   ]
  },
  {
   "cell_type": "code",
   "execution_count": 17,
   "metadata": {},
   "outputs": [
    {
     "data": {
      "text/plain": [
       "funding_status                            0\n",
       "school_zip                                0\n",
       "school_charter                            0\n",
       "school_magnet                             0\n",
       "school_kipp                               0\n",
       "school_nlns                               0\n",
       "school_year_round                         0\n",
       "school_charter_ready_promise              0\n",
       "teacher_prefix                            0\n",
       "teacher_teach_for_america                 0\n",
       "teacher_ny_teaching_fellow                0\n",
       "primary_focus_subject                     0\n",
       "primary_focus_area                        0\n",
       "resource_type                             0\n",
       "poverty_level                             0\n",
       "grade_level                               0\n",
       "total_price_excluding_optional_support    0\n",
       "total_price_including_optional_support    0\n",
       "students_reached                          0\n",
       "total_donations                           0\n",
       "num_donors                                0\n",
       "eligible_double_your_impact_match         0\n",
       "eligible_almost_home_match                0\n",
       "dtype: int64"
      ]
     },
     "execution_count": 17,
     "metadata": {},
     "output_type": "execute_result"
    }
   ],
   "source": [
    "projects_no_nan_metro_excluded.isna().sum()"
   ]
  },
  {
   "cell_type": "code",
   "execution_count": 18,
   "metadata": {},
   "outputs": [],
   "source": [
    "projects_no_nan_metro_excluded.to_csv('../Data/with-income.csv', index = False)"
   ]
  },
  {
   "cell_type": "code",
   "execution_count": 9,
   "metadata": {},
   "outputs": [],
   "source": [
    "projects_metro_included = projects.dropna(subset = ['school_metro', 'vendor_shipping_charges', 'sales_tax', 'payment_processing_charges', 'fulfillment_labor_materials',\n",
    "                                                   'teacher_prefix', 'primary_focus_subject', 'primary_focus_area', 'resource_type', 'grade_level', 'students_reached'])"
   ]
  },
  {
   "cell_type": "code",
   "execution_count": 10,
   "metadata": {},
   "outputs": [
    {
     "data": {
      "text/plain": [
       "funding_status                            0\n",
       "_projectid                                0\n",
       "school_metro                              0\n",
       "school_charter                            0\n",
       "school_magnet                             0\n",
       "school_year_round                         0\n",
       "school_nlns                               0\n",
       "school_kipp                               0\n",
       "school_charter_ready_promise              0\n",
       "teacher_prefix                            0\n",
       "teacher_teach_for_america                 0\n",
       "teacher_ny_teaching_fellow                0\n",
       "primary_focus_subject                     0\n",
       "primary_focus_area                        0\n",
       "resource_type                             0\n",
       "poverty_level                             0\n",
       "grade_level                               0\n",
       "vendor_shipping_charges                   0\n",
       "sales_tax                                 0\n",
       "payment_processing_charges                0\n",
       "fulfillment_labor_materials               0\n",
       "total_price_excluding_optional_support    0\n",
       "total_price_including_optional_support    0\n",
       "students_reached                          0\n",
       "total_donations                           0\n",
       "num_donors                                0\n",
       "eligible_double_your_impact_match         0\n",
       "eligible_almost_home_match                0\n",
       "dtype: int64"
      ]
     },
     "execution_count": 10,
     "metadata": {},
     "output_type": "execute_result"
    }
   ],
   "source": [
    "projects_metro_included.isna().sum()"
   ]
  },
  {
   "cell_type": "code",
   "execution_count": 11,
   "metadata": {},
   "outputs": [],
   "source": [
    "projects_metro_included.to_csv('../Data/with_income_pre.csv', index = False)"
   ]
  },
  {
   "cell_type": "code",
   "execution_count": null,
   "metadata": {},
   "outputs": [],
   "source": []
  }
 ],
 "metadata": {
  "kernelspec": {
   "display_name": "Python 3",
   "language": "python",
   "name": "python3"
  },
  "language_info": {
   "codemirror_mode": {
    "name": "ipython",
    "version": 3
   },
   "file_extension": ".py",
   "mimetype": "text/x-python",
   "name": "python",
   "nbconvert_exporter": "python",
   "pygments_lexer": "ipython3",
   "version": "3.7.1"
  }
 },
 "nbformat": 4,
 "nbformat_minor": 2
}

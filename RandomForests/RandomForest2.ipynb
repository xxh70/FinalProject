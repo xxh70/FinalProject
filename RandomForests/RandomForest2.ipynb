{
 "cells": [
  {
   "cell_type": "code",
   "execution_count": 1,
   "metadata": {},
   "outputs": [],
   "source": [
    "import pandas as pd"
   ]
  },
  {
   "cell_type": "code",
   "execution_count": 2,
   "metadata": {},
   "outputs": [],
   "source": [
    "no_metro = pd.read_csv('Data/clean-metro-sales-aux-exc.csv', low_memory = False)"
   ]
  },
  {
   "cell_type": "code",
   "execution_count": 3,
   "metadata": {},
   "outputs": [
    {
     "data": {
      "text/plain": [
       "Index(['funding_status', 'school_charter', 'school_magnet', 'school_kipp',\n",
       "       'school_nlns', 'school_year_round', 'school_charter_ready_promise',\n",
       "       'teacher_prefix', 'teacher_teach_for_america',\n",
       "       'teacher_ny_teaching_fellow', 'primary_focus_subject',\n",
       "       'primary_focus_area', 'resource_type', 'poverty_level', 'grade_level',\n",
       "       'total_price_excluding_optional_support',\n",
       "       'total_price_including_optional_support', 'students_reached',\n",
       "       'total_donations', 'num_donors', 'eligible_double_your_impact_match',\n",
       "       'eligible_almost_home_match'],\n",
       "      dtype='object')"
      ]
     },
     "execution_count": 3,
     "metadata": {},
     "output_type": "execute_result"
    }
   ],
   "source": [
    "no_metro.columns"
   ]
  },
  {
   "cell_type": "code",
   "execution_count": 4,
   "metadata": {},
   "outputs": [],
   "source": [
    "no_metro = no_metro[['funding_status', 'poverty_level', 'grade_level', 'total_price_excluding_optional_support', 'total_price_including_optional_support', 'students_reached']]"
   ]
  },
  {
   "cell_type": "code",
   "execution_count": 5,
   "metadata": {},
   "outputs": [],
   "source": [
    "X = no_metro.drop('funding_status', axis=1)\n",
    "y = no_metro['funding_status']"
   ]
  },
  {
   "cell_type": "code",
   "execution_count": 6,
   "metadata": {},
   "outputs": [],
   "source": [
    "from sklearn.model_selection import train_test_split\n",
    "\n",
    "X_train, X_test, y_train, y_test = train_test_split(X, y, random_state=1, stratify=y)"
   ]
  },
  {
   "cell_type": "code",
   "execution_count": 8,
   "metadata": {
    "scrolled": true
   },
   "outputs": [
    {
     "data": {
      "text/plain": [
       "[(0.38118410620518417, 'total_price_including_optional_support'),\n",
       " (0.37146587765176764, 'total_price_excluding_optional_support'),\n",
       " (0.2105090648154078, 'students_reached'),\n",
       " (0.02214290790998527, 'grade_level'),\n",
       " (0.014698043417654603, 'poverty_level')]"
      ]
     },
     "execution_count": 8,
     "metadata": {},
     "output_type": "execute_result"
    }
   ],
   "source": [
    "#Random forests\n",
    "from sklearn.ensemble import RandomForestClassifier\n",
    "\n",
    "#To set feature and target names\n",
    "#Target is output, feature is input\n",
    "target_names = ['unsuccessful', 'successful']\n",
    "feature_names = X.columns\n",
    "\n",
    "rf = RandomForestClassifier(n_estimators=400)\n",
    "rf = rf.fit(X_train, y_train)\n",
    "\n",
    "#To retrieve automatically calculated importances\n",
    "importances = rf.feature_importances_\n",
    "\n",
    "#Sort them:\n",
    "sorted(zip(rf.feature_importances_, feature_names), reverse=True)"
   ]
  },
  {
   "cell_type": "code",
   "execution_count": 9,
   "metadata": {},
   "outputs": [
    {
     "data": {
      "text/plain": [
       "-0.6246935113525369"
      ]
     },
     "execution_count": 9,
     "metadata": {},
     "output_type": "execute_result"
    }
   ],
   "source": [
    "#Measure model\n",
    "from sklearn.metrics import mean_squared_error, r2_score\n",
    "\n",
    "#Predict a value\n",
    "predicted = rf.predict(X_test)\n",
    "\n",
    "mse = mean_squared_error(y_test, predicted)\n",
    "\n",
    "r2 = r2_score(y_test, predicted)\n",
    "r2"
   ]
  },
  {
   "cell_type": "code",
   "execution_count": 10,
   "metadata": {},
   "outputs": [
    {
     "data": {
      "text/plain": [
       "0.3416188095873292"
      ]
     },
     "execution_count": 10,
     "metadata": {},
     "output_type": "execute_result"
    }
   ],
   "source": [
    "mse"
   ]
  },
  {
   "cell_type": "code",
   "execution_count": null,
   "metadata": {},
   "outputs": [],
   "source": []
  },
  {
   "cell_type": "code",
   "execution_count": null,
   "metadata": {},
   "outputs": [],
   "source": []
  },
  {
   "cell_type": "code",
   "execution_count": null,
   "metadata": {},
   "outputs": [],
   "source": []
  }
 ],
 "metadata": {
  "kernelspec": {
   "display_name": "Python 3",
   "language": "python",
   "name": "python3"
  },
  "language_info": {
   "codemirror_mode": {
    "name": "ipython",
    "version": 3
   },
   "file_extension": ".py",
   "mimetype": "text/x-python",
   "name": "python",
   "nbconvert_exporter": "python",
   "pygments_lexer": "ipython3",
   "version": "3.7.3"
  }
 },
 "nbformat": 4,
 "nbformat_minor": 2
}
